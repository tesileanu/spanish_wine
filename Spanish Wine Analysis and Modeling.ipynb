{
 "cells": [
  {
   "cell_type": "code",
   "execution_count": 53,
   "id": "a54383df",
   "metadata": {},
   "outputs": [],
   "source": [
    "import pandas as pd\n",
    "import numpy as np\n",
    "import seaborn as sns\n",
    "import matplotlib.pyplot as plt\n",
    "from sklearn.impute import SimpleImputer\n",
    "from sklearn.model_selection import train_test_split\n",
    "from sklearn.preprocessing import LabelEncoder, Normalizer, OneHotEncoder\n",
    "from sklearn.pipeline import Pipeline\n",
    "from collections import Counter\n",
    "from imblearn.under_sampling import RandomUnderSampler \n",
    "from imblearn.over_sampling import RandomOverSampler \n",
    "\n",
    "from sklearn.preprocessing import StandardScaler\n",
    "from sklearn import tree\n",
    "from sklearn.svm import SVC\n",
    "from sklearn.linear_model import LogisticRegression\n",
    "from sklearn.linear_model import LinearRegression, Lasso, Ridge, BayesianRidge\n",
    "from sklearn.tree import DecisionTreeRegressor\n",
    "from sklearn.ensemble import RandomForestRegressor\n",
    "from sklearn.metrics import mean_absolute_error, mean_squared_error, r2_score\n",
    "from sklearn.neighbors import KNeighborsClassifier\n",
    "from sklearn.ensemble import RandomForestClassifier\n",
    "from sklearn.ensemble import ExtraTreesClassifier\n",
    "from sklearn.ensemble import BaggingClassifier\n",
    "from sklearn.ensemble import GradientBoostingClassifier\n",
    "from sklearn.tree import DecisionTreeClassifier\n",
    "from sklearn.naive_bayes import MultinomialNB\n",
    "from sklearn.model_selection import GridSearchCV, RandomizedSearchCV\n",
    "from xgboost import XGBClassifier\n",
    "\n",
    "from sklearn.metrics import *\n",
    "import sklearn.metrics as metrics"
   ]
  },
  {
   "cell_type": "markdown",
   "id": "25efd6ab",
   "metadata": {},
   "source": [
    "## Data Import"
   ]
  },
  {
   "cell_type": "code",
   "execution_count": 54,
   "id": "cba51ed0",
   "metadata": {},
   "outputs": [],
   "source": [
    "df = pd.read_csv('C:/Users/Bogdan/Desktop/wines.csv')"
   ]
  },
  {
   "cell_type": "code",
   "execution_count": 55,
   "id": "452c91af",
   "metadata": {},
   "outputs": [
    {
     "data": {
      "text/html": [
       "<div>\n",
       "<style scoped>\n",
       "    .dataframe tbody tr th:only-of-type {\n",
       "        vertical-align: middle;\n",
       "    }\n",
       "\n",
       "    .dataframe tbody tr th {\n",
       "        vertical-align: top;\n",
       "    }\n",
       "\n",
       "    .dataframe thead th {\n",
       "        text-align: right;\n",
       "    }\n",
       "</style>\n",
       "<table border=\"1\" class=\"dataframe\">\n",
       "  <thead>\n",
       "    <tr style=\"text-align: right;\">\n",
       "      <th></th>\n",
       "      <th>winery</th>\n",
       "      <th>wine</th>\n",
       "      <th>year</th>\n",
       "      <th>rating</th>\n",
       "      <th>num_reviews</th>\n",
       "      <th>country</th>\n",
       "      <th>region</th>\n",
       "      <th>price</th>\n",
       "      <th>type</th>\n",
       "      <th>body</th>\n",
       "      <th>acidity</th>\n",
       "    </tr>\n",
       "  </thead>\n",
       "  <tbody>\n",
       "    <tr>\n",
       "      <th>0</th>\n",
       "      <td>Teso La Monja</td>\n",
       "      <td>Tinto</td>\n",
       "      <td>2013</td>\n",
       "      <td>4.9</td>\n",
       "      <td>58</td>\n",
       "      <td>Espana</td>\n",
       "      <td>Toro</td>\n",
       "      <td>995.00</td>\n",
       "      <td>Toro Red</td>\n",
       "      <td>5.0</td>\n",
       "      <td>3.0</td>\n",
       "    </tr>\n",
       "    <tr>\n",
       "      <th>1</th>\n",
       "      <td>Artadi</td>\n",
       "      <td>Vina El Pison</td>\n",
       "      <td>2018</td>\n",
       "      <td>4.9</td>\n",
       "      <td>31</td>\n",
       "      <td>Espana</td>\n",
       "      <td>Vino de Espana</td>\n",
       "      <td>313.50</td>\n",
       "      <td>Tempranillo</td>\n",
       "      <td>4.0</td>\n",
       "      <td>2.0</td>\n",
       "    </tr>\n",
       "    <tr>\n",
       "      <th>2</th>\n",
       "      <td>Vega Sicilia</td>\n",
       "      <td>Unico</td>\n",
       "      <td>2009</td>\n",
       "      <td>4.8</td>\n",
       "      <td>1793</td>\n",
       "      <td>Espana</td>\n",
       "      <td>Ribera del Duero</td>\n",
       "      <td>324.95</td>\n",
       "      <td>Ribera Del Duero Red</td>\n",
       "      <td>5.0</td>\n",
       "      <td>3.0</td>\n",
       "    </tr>\n",
       "    <tr>\n",
       "      <th>3</th>\n",
       "      <td>Vega Sicilia</td>\n",
       "      <td>Unico</td>\n",
       "      <td>1999</td>\n",
       "      <td>4.8</td>\n",
       "      <td>1705</td>\n",
       "      <td>Espana</td>\n",
       "      <td>Ribera del Duero</td>\n",
       "      <td>692.96</td>\n",
       "      <td>Ribera Del Duero Red</td>\n",
       "      <td>5.0</td>\n",
       "      <td>3.0</td>\n",
       "    </tr>\n",
       "    <tr>\n",
       "      <th>4</th>\n",
       "      <td>Vega Sicilia</td>\n",
       "      <td>Unico</td>\n",
       "      <td>1996</td>\n",
       "      <td>4.8</td>\n",
       "      <td>1309</td>\n",
       "      <td>Espana</td>\n",
       "      <td>Ribera del Duero</td>\n",
       "      <td>778.06</td>\n",
       "      <td>Ribera Del Duero Red</td>\n",
       "      <td>5.0</td>\n",
       "      <td>3.0</td>\n",
       "    </tr>\n",
       "  </tbody>\n",
       "</table>\n",
       "</div>"
      ],
      "text/plain": [
       "          winery           wine  year  rating  num_reviews country  \\\n",
       "0  Teso La Monja          Tinto  2013     4.9           58  Espana   \n",
       "1         Artadi  Vina El Pison  2018     4.9           31  Espana   \n",
       "2   Vega Sicilia          Unico  2009     4.8         1793  Espana   \n",
       "3   Vega Sicilia          Unico  1999     4.8         1705  Espana   \n",
       "4   Vega Sicilia          Unico  1996     4.8         1309  Espana   \n",
       "\n",
       "             region   price                  type  body  acidity  \n",
       "0              Toro  995.00              Toro Red   5.0      3.0  \n",
       "1    Vino de Espana  313.50           Tempranillo   4.0      2.0  \n",
       "2  Ribera del Duero  324.95  Ribera Del Duero Red   5.0      3.0  \n",
       "3  Ribera del Duero  692.96  Ribera Del Duero Red   5.0      3.0  \n",
       "4  Ribera del Duero  778.06  Ribera Del Duero Red   5.0      3.0  "
      ]
     },
     "execution_count": 55,
     "metadata": {},
     "output_type": "execute_result"
    }
   ],
   "source": [
    "df.head()"
   ]
  },
  {
   "cell_type": "code",
   "execution_count": 56,
   "id": "35f507c2",
   "metadata": {},
   "outputs": [
    {
     "name": "stdout",
     "output_type": "stream",
     "text": [
      "<class 'pandas.core.frame.DataFrame'>\n",
      "RangeIndex: 7500 entries, 0 to 7499\n",
      "Data columns (total 11 columns):\n",
      " #   Column       Non-Null Count  Dtype  \n",
      "---  ------       --------------  -----  \n",
      " 0   winery       7500 non-null   object \n",
      " 1   wine         7500 non-null   object \n",
      " 2   year         7498 non-null   object \n",
      " 3   rating       7500 non-null   float64\n",
      " 4   num_reviews  7500 non-null   int64  \n",
      " 5   country      7500 non-null   object \n",
      " 6   region       7500 non-null   object \n",
      " 7   price        7500 non-null   float64\n",
      " 8   type         6955 non-null   object \n",
      " 9   body         6331 non-null   float64\n",
      " 10  acidity      6331 non-null   float64\n",
      "dtypes: float64(4), int64(1), object(6)\n",
      "memory usage: 644.7+ KB\n"
     ]
    }
   ],
   "source": [
    "df.info()"
   ]
  },
  {
   "cell_type": "markdown",
   "id": "bd7cf868",
   "metadata": {},
   "source": [
    "## Finding missing values"
   ]
  },
  {
   "cell_type": "code",
   "execution_count": 57,
   "id": "ac395b36",
   "metadata": {},
   "outputs": [
    {
     "data": {
      "text/plain": [
       "winery            0\n",
       "wine              0\n",
       "year              2\n",
       "rating            0\n",
       "num_reviews       0\n",
       "country           0\n",
       "region            0\n",
       "price             0\n",
       "type            545\n",
       "body           1169\n",
       "acidity        1169\n",
       "dtype: int64"
      ]
     },
     "execution_count": 57,
     "metadata": {},
     "output_type": "execute_result"
    }
   ],
   "source": [
    "df.isna().sum()"
   ]
  },
  {
   "cell_type": "code",
   "execution_count": 58,
   "id": "2f2d3d9d",
   "metadata": {},
   "outputs": [
    {
     "data": {
      "text/plain": [
       "array(['2013', '2018', '2009', '1999', '1996', '1998', '2010', '1995',\n",
       "       '2015', '2011', '2016', '1970', '1946', '1962', '2019', '2004',\n",
       "       'N.V.', '1931', '1979', '2005', '2020', '2014', '1985', '1929',\n",
       "       '2007', '2012', '2017', '2008', nan, '2006', '2000', '2003',\n",
       "       '2002', '1991', '1994', '1990', '1989', '1987', '1986', '1981',\n",
       "       '2001', '1968', '1964', '1982', '1974', '1983', '1955', '1980',\n",
       "       '1972', '1953', '1958', '1942', '1965', '1992', '1973', '1997',\n",
       "       '1967', '1975', '1910', '1961', '1954', '1988', '1969', '1951',\n",
       "       '1928', '1976', '1949', '2021', '1959', '1922', '1978', '1925'],\n",
       "      dtype=object)"
      ]
     },
     "execution_count": 58,
     "metadata": {},
     "output_type": "execute_result"
    }
   ],
   "source": [
    "df.year.unique()"
   ]
  },
  {
   "cell_type": "code",
   "execution_count": 59,
   "id": "5487d1cc",
   "metadata": {},
   "outputs": [],
   "source": [
    "df = df.replace('N.V.', np.nan)"
   ]
  },
  {
   "cell_type": "code",
   "execution_count": 60,
   "id": "f84367e8",
   "metadata": {},
   "outputs": [
    {
     "data": {
      "text/plain": [
       "winery            0\n",
       "wine              0\n",
       "year            290\n",
       "rating            0\n",
       "num_reviews       0\n",
       "country           0\n",
       "region            0\n",
       "price             0\n",
       "type            545\n",
       "body           1169\n",
       "acidity        1169\n",
       "dtype: int64"
      ]
     },
     "execution_count": 60,
     "metadata": {},
     "output_type": "execute_result"
    }
   ],
   "source": [
    "df.isna().sum()"
   ]
  },
  {
   "cell_type": "code",
   "execution_count": 61,
   "id": "d9e51672",
   "metadata": {},
   "outputs": [
    {
     "data": {
      "text/plain": [
       "array(['Toro Red', 'Tempranillo', 'Ribera Del Duero Red', 'Pedro Ximenez',\n",
       "       'Red', 'Sherry', 'Priorat Red', 'Rioja Red', 'Rioja White',\n",
       "       'Grenache', nan, 'Cava', 'Verdejo', 'Syrah', 'Monastrell',\n",
       "       'Mencia', 'Sparkling', 'Montsant Red', 'Albarino', 'Chardonnay',\n",
       "       'Cabernet Sauvignon', 'Sauvignon Blanc'], dtype=object)"
      ]
     },
     "execution_count": 61,
     "metadata": {},
     "output_type": "execute_result"
    }
   ],
   "source": [
    "df.type.unique()"
   ]
  },
  {
   "cell_type": "code",
   "execution_count": 62,
   "id": "dc59383d",
   "metadata": {},
   "outputs": [
    {
     "data": {
      "text/plain": [
       "array([ 5.,  4.,  3., nan,  2.])"
      ]
     },
     "execution_count": 62,
     "metadata": {},
     "output_type": "execute_result"
    }
   ],
   "source": [
    "df.body.unique()"
   ]
  },
  {
   "cell_type": "code",
   "execution_count": 63,
   "id": "7aacbd56",
   "metadata": {},
   "outputs": [
    {
     "data": {
      "text/plain": [
       "array([ 3.,  2.,  1., nan])"
      ]
     },
     "execution_count": 63,
     "metadata": {},
     "output_type": "execute_result"
    }
   ],
   "source": [
    "df.acidity.unique()"
   ]
  },
  {
   "cell_type": "code",
   "execution_count": 64,
   "id": "291cdbd0",
   "metadata": {
    "scrolled": true
   },
   "outputs": [
    {
     "data": {
      "text/html": [
       "<div>\n",
       "<style scoped>\n",
       "    .dataframe tbody tr th:only-of-type {\n",
       "        vertical-align: middle;\n",
       "    }\n",
       "\n",
       "    .dataframe tbody tr th {\n",
       "        vertical-align: top;\n",
       "    }\n",
       "\n",
       "    .dataframe thead th {\n",
       "        text-align: right;\n",
       "    }\n",
       "</style>\n",
       "<table border=\"1\" class=\"dataframe\">\n",
       "  <thead>\n",
       "    <tr style=\"text-align: right;\">\n",
       "      <th></th>\n",
       "      <th>winerynum</th>\n",
       "      <th>winenum</th>\n",
       "      <th>regionnum</th>\n",
       "      <th>typenum</th>\n",
       "    </tr>\n",
       "  </thead>\n",
       "  <tbody>\n",
       "    <tr>\n",
       "      <th>0</th>\n",
       "      <td>Teso La Monja</td>\n",
       "      <td>Tinto</td>\n",
       "      <td>Toro</td>\n",
       "      <td>Toro Red</td>\n",
       "    </tr>\n",
       "    <tr>\n",
       "      <th>1</th>\n",
       "      <td>Artadi</td>\n",
       "      <td>Vina El Pison</td>\n",
       "      <td>Vino de Espana</td>\n",
       "      <td>Tempranillo</td>\n",
       "    </tr>\n",
       "    <tr>\n",
       "      <th>2</th>\n",
       "      <td>Vega Sicilia</td>\n",
       "      <td>Unico</td>\n",
       "      <td>Ribera del Duero</td>\n",
       "      <td>Ribera Del Duero Red</td>\n",
       "    </tr>\n",
       "    <tr>\n",
       "      <th>3</th>\n",
       "      <td>Vega Sicilia</td>\n",
       "      <td>Unico</td>\n",
       "      <td>Ribera del Duero</td>\n",
       "      <td>Ribera Del Duero Red</td>\n",
       "    </tr>\n",
       "    <tr>\n",
       "      <th>4</th>\n",
       "      <td>Vega Sicilia</td>\n",
       "      <td>Unico</td>\n",
       "      <td>Ribera del Duero</td>\n",
       "      <td>Ribera Del Duero Red</td>\n",
       "    </tr>\n",
       "  </tbody>\n",
       "</table>\n",
       "</div>"
      ],
      "text/plain": [
       "       winerynum        winenum         regionnum               typenum\n",
       "0  Teso La Monja          Tinto              Toro              Toro Red\n",
       "1         Artadi  Vina El Pison    Vino de Espana           Tempranillo\n",
       "2   Vega Sicilia          Unico  Ribera del Duero  Ribera Del Duero Red\n",
       "3   Vega Sicilia          Unico  Ribera del Duero  Ribera Del Duero Red\n",
       "4   Vega Sicilia          Unico  Ribera del Duero  Ribera Del Duero Red"
      ]
     },
     "execution_count": 64,
     "metadata": {},
     "output_type": "execute_result"
    }
   ],
   "source": [
    "categorydf = df[['winery','wine','region','type']]\n",
    "categorydf.columns=['winerynum','winenum','regionnum','typenum']\n",
    "categorydf.head()"
   ]
  },
  {
   "cell_type": "code",
   "execution_count": 65,
   "id": "07408eee",
   "metadata": {},
   "outputs": [
    {
     "data": {
      "text/html": [
       "<div>\n",
       "<style scoped>\n",
       "    .dataframe tbody tr th:only-of-type {\n",
       "        vertical-align: middle;\n",
       "    }\n",
       "\n",
       "    .dataframe tbody tr th {\n",
       "        vertical-align: top;\n",
       "    }\n",
       "\n",
       "    .dataframe thead th {\n",
       "        text-align: right;\n",
       "    }\n",
       "</style>\n",
       "<table border=\"1\" class=\"dataframe\">\n",
       "  <thead>\n",
       "    <tr style=\"text-align: right;\">\n",
       "      <th></th>\n",
       "      <th>year</th>\n",
       "      <th>rating</th>\n",
       "      <th>num_reviews</th>\n",
       "      <th>price</th>\n",
       "      <th>body</th>\n",
       "      <th>acidity</th>\n",
       "      <th>winerynum</th>\n",
       "      <th>winenum</th>\n",
       "      <th>regionnum</th>\n",
       "      <th>typenum</th>\n",
       "    </tr>\n",
       "  </thead>\n",
       "  <tbody>\n",
       "    <tr>\n",
       "      <th>0</th>\n",
       "      <td>2013.0</td>\n",
       "      <td>4.9</td>\n",
       "      <td>58</td>\n",
       "      <td>995.00</td>\n",
       "      <td>5.0</td>\n",
       "      <td>3.0</td>\n",
       "      <td>Teso La Monja</td>\n",
       "      <td>Tinto</td>\n",
       "      <td>Toro</td>\n",
       "      <td>Toro Red</td>\n",
       "    </tr>\n",
       "    <tr>\n",
       "      <th>1</th>\n",
       "      <td>2018.0</td>\n",
       "      <td>4.9</td>\n",
       "      <td>31</td>\n",
       "      <td>313.50</td>\n",
       "      <td>4.0</td>\n",
       "      <td>2.0</td>\n",
       "      <td>Artadi</td>\n",
       "      <td>Vina El Pison</td>\n",
       "      <td>Vino de Espana</td>\n",
       "      <td>Tempranillo</td>\n",
       "    </tr>\n",
       "    <tr>\n",
       "      <th>2</th>\n",
       "      <td>2009.0</td>\n",
       "      <td>4.8</td>\n",
       "      <td>1793</td>\n",
       "      <td>324.95</td>\n",
       "      <td>5.0</td>\n",
       "      <td>3.0</td>\n",
       "      <td>Vega Sicilia</td>\n",
       "      <td>Unico</td>\n",
       "      <td>Ribera del Duero</td>\n",
       "      <td>Ribera Del Duero Red</td>\n",
       "    </tr>\n",
       "    <tr>\n",
       "      <th>3</th>\n",
       "      <td>1999.0</td>\n",
       "      <td>4.8</td>\n",
       "      <td>1705</td>\n",
       "      <td>692.96</td>\n",
       "      <td>5.0</td>\n",
       "      <td>3.0</td>\n",
       "      <td>Vega Sicilia</td>\n",
       "      <td>Unico</td>\n",
       "      <td>Ribera del Duero</td>\n",
       "      <td>Ribera Del Duero Red</td>\n",
       "    </tr>\n",
       "    <tr>\n",
       "      <th>4</th>\n",
       "      <td>1996.0</td>\n",
       "      <td>4.8</td>\n",
       "      <td>1309</td>\n",
       "      <td>778.06</td>\n",
       "      <td>5.0</td>\n",
       "      <td>3.0</td>\n",
       "      <td>Vega Sicilia</td>\n",
       "      <td>Unico</td>\n",
       "      <td>Ribera del Duero</td>\n",
       "      <td>Ribera Del Duero Red</td>\n",
       "    </tr>\n",
       "  </tbody>\n",
       "</table>\n",
       "</div>"
      ],
      "text/plain": [
       "     year  rating  num_reviews   price  body  acidity      winerynum  \\\n",
       "0  2013.0     4.9           58  995.00   5.0      3.0  Teso La Monja   \n",
       "1  2018.0     4.9           31  313.50   4.0      2.0         Artadi   \n",
       "2  2009.0     4.8         1793  324.95   5.0      3.0   Vega Sicilia   \n",
       "3  1999.0     4.8         1705  692.96   5.0      3.0   Vega Sicilia   \n",
       "4  1996.0     4.8         1309  778.06   5.0      3.0   Vega Sicilia   \n",
       "\n",
       "         winenum         regionnum               typenum  \n",
       "0          Tinto              Toro              Toro Red  \n",
       "1  Vina El Pison    Vino de Espana           Tempranillo  \n",
       "2          Unico  Ribera del Duero  Ribera Del Duero Red  \n",
       "3          Unico  Ribera del Duero  Ribera Del Duero Red  \n",
       "4          Unico  Ribera del Duero  Ribera Del Duero Red  "
      ]
     },
     "execution_count": 65,
     "metadata": {},
     "output_type": "execute_result"
    }
   ],
   "source": [
    "finaldf = pd.concat([df, categorydf], axis='columns')\n",
    "finaldf['year'] = finaldf['year'].astype(float)\n",
    "finaldf.drop(columns=['winery','wine','country','region','type'], inplace=True)\n",
    "finaldf.head()"
   ]
  },
  {
   "cell_type": "markdown",
   "id": "e3971f4c",
   "metadata": {},
   "source": [
    "## Imputing missing values"
   ]
  },
  {
   "cell_type": "code",
   "execution_count": 66,
   "id": "c6e9bfdf",
   "metadata": {},
   "outputs": [],
   "source": [
    "from sklearn.preprocessing import LabelEncoder\n",
    "le1 = LabelEncoder()\n",
    "le2 = LabelEncoder()\n",
    "le3 = LabelEncoder()\n",
    "le4 = LabelEncoder()\n",
    "\n",
    "finaldf.winerynum = le1.fit_transform(finaldf.winerynum)\n",
    "finaldf.winenum = le2.fit_transform(finaldf.winenum)\n",
    "finaldf.regionnum = le3.fit_transform(finaldf.regionnum)\n",
    "finaldf.typenum = le4.fit_transform(finaldf.typenum)"
   ]
  },
  {
   "cell_type": "code",
   "execution_count": 67,
   "id": "382329ee",
   "metadata": {},
   "outputs": [
    {
     "data": {
      "text/html": [
       "<div>\n",
       "<style scoped>\n",
       "    .dataframe tbody tr th:only-of-type {\n",
       "        vertical-align: middle;\n",
       "    }\n",
       "\n",
       "    .dataframe tbody tr th {\n",
       "        vertical-align: top;\n",
       "    }\n",
       "\n",
       "    .dataframe thead th {\n",
       "        text-align: right;\n",
       "    }\n",
       "</style>\n",
       "<table border=\"1\" class=\"dataframe\">\n",
       "  <thead>\n",
       "    <tr style=\"text-align: right;\">\n",
       "      <th></th>\n",
       "      <th>year</th>\n",
       "      <th>rating</th>\n",
       "      <th>num_reviews</th>\n",
       "      <th>price</th>\n",
       "      <th>body</th>\n",
       "      <th>acidity</th>\n",
       "      <th>winerynum</th>\n",
       "      <th>winenum</th>\n",
       "      <th>regionnum</th>\n",
       "      <th>typenum</th>\n",
       "    </tr>\n",
       "  </thead>\n",
       "  <tbody>\n",
       "    <tr>\n",
       "      <th>0</th>\n",
       "      <td>2013.0</td>\n",
       "      <td>4.9</td>\n",
       "      <td>58</td>\n",
       "      <td>995.00</td>\n",
       "      <td>5.0</td>\n",
       "      <td>3.0</td>\n",
       "      <td>422</td>\n",
       "      <td>759</td>\n",
       "      <td>69</td>\n",
       "      <td>19</td>\n",
       "    </tr>\n",
       "    <tr>\n",
       "      <th>1</th>\n",
       "      <td>2018.0</td>\n",
       "      <td>4.9</td>\n",
       "      <td>31</td>\n",
       "      <td>313.50</td>\n",
       "      <td>4.0</td>\n",
       "      <td>2.0</td>\n",
       "      <td>33</td>\n",
       "      <td>819</td>\n",
       "      <td>74</td>\n",
       "      <td>18</td>\n",
       "    </tr>\n",
       "    <tr>\n",
       "      <th>2</th>\n",
       "      <td>2009.0</td>\n",
       "      <td>4.8</td>\n",
       "      <td>1793</td>\n",
       "      <td>324.95</td>\n",
       "      <td>5.0</td>\n",
       "      <td>3.0</td>\n",
       "      <td>447</td>\n",
       "      <td>778</td>\n",
       "      <td>57</td>\n",
       "      <td>11</td>\n",
       "    </tr>\n",
       "    <tr>\n",
       "      <th>3</th>\n",
       "      <td>1999.0</td>\n",
       "      <td>4.8</td>\n",
       "      <td>1705</td>\n",
       "      <td>692.96</td>\n",
       "      <td>5.0</td>\n",
       "      <td>3.0</td>\n",
       "      <td>447</td>\n",
       "      <td>778</td>\n",
       "      <td>57</td>\n",
       "      <td>11</td>\n",
       "    </tr>\n",
       "    <tr>\n",
       "      <th>4</th>\n",
       "      <td>1996.0</td>\n",
       "      <td>4.8</td>\n",
       "      <td>1309</td>\n",
       "      <td>778.06</td>\n",
       "      <td>5.0</td>\n",
       "      <td>3.0</td>\n",
       "      <td>447</td>\n",
       "      <td>778</td>\n",
       "      <td>57</td>\n",
       "      <td>11</td>\n",
       "    </tr>\n",
       "  </tbody>\n",
       "</table>\n",
       "</div>"
      ],
      "text/plain": [
       "     year  rating  num_reviews   price  body  acidity  winerynum  winenum  \\\n",
       "0  2013.0     4.9           58  995.00   5.0      3.0        422      759   \n",
       "1  2018.0     4.9           31  313.50   4.0      2.0         33      819   \n",
       "2  2009.0     4.8         1793  324.95   5.0      3.0        447      778   \n",
       "3  1999.0     4.8         1705  692.96   5.0      3.0        447      778   \n",
       "4  1996.0     4.8         1309  778.06   5.0      3.0        447      778   \n",
       "\n",
       "   regionnum  typenum  \n",
       "0         69       19  \n",
       "1         74       18  \n",
       "2         57       11  \n",
       "3         57       11  \n",
       "4         57       11  "
      ]
     },
     "execution_count": 67,
     "metadata": {},
     "output_type": "execute_result"
    }
   ],
   "source": [
    "finaldf.head()"
   ]
  },
  {
   "cell_type": "code",
   "execution_count": 68,
   "id": "825fb64e",
   "metadata": {},
   "outputs": [
    {
     "data": {
      "text/plain": [
       "year            290\n",
       "rating            0\n",
       "num_reviews       0\n",
       "price             0\n",
       "body           1169\n",
       "acidity        1169\n",
       "winerynum         0\n",
       "winenum           0\n",
       "regionnum         0\n",
       "typenum           0\n",
       "dtype: int64"
      ]
     },
     "execution_count": 68,
     "metadata": {},
     "output_type": "execute_result"
    }
   ],
   "source": [
    "finaldf.isna().sum()"
   ]
  },
  {
   "cell_type": "code",
   "execution_count": 69,
   "id": "d53c8c74",
   "metadata": {},
   "outputs": [
    {
     "data": {
      "text/plain": [
       "12    2357\n",
       "11    1407\n",
       "10     864\n",
       "9      674\n",
       "21     545\n",
       "19     296\n",
       "18     291\n",
       "15     274\n",
       "0      252\n",
       "5      235\n",
       "13      92\n",
       "8       35\n",
       "4       35\n",
       "2       33\n",
       "20      27\n",
       "6       18\n",
       "7       17\n",
       "17      15\n",
       "3       13\n",
       "1       11\n",
       "16       5\n",
       "14       4\n",
       "Name: typenum, dtype: int64"
      ]
     },
     "execution_count": 69,
     "metadata": {},
     "output_type": "execute_result"
    }
   ],
   "source": [
    "finaldf.typenum.value_counts()"
   ]
  },
  {
   "cell_type": "code",
   "execution_count": 70,
   "id": "ec00e6d3",
   "metadata": {},
   "outputs": [],
   "source": [
    "finaldf[['typenum']] = finaldf[['typenum']].replace([21], np.nan)"
   ]
  },
  {
   "cell_type": "code",
   "execution_count": 71,
   "id": "c2c721f0",
   "metadata": {},
   "outputs": [
    {
     "data": {
      "text/plain": [
       "year            290\n",
       "rating            0\n",
       "num_reviews       0\n",
       "price             0\n",
       "body           1169\n",
       "acidity        1169\n",
       "winerynum         0\n",
       "winenum           0\n",
       "regionnum         0\n",
       "typenum         545\n",
       "dtype: int64"
      ]
     },
     "execution_count": 71,
     "metadata": {},
     "output_type": "execute_result"
    }
   ],
   "source": [
    "finaldf.isna().sum()"
   ]
  },
  {
   "cell_type": "code",
   "execution_count": 72,
   "id": "674f9370",
   "metadata": {},
   "outputs": [
    {
     "name": "stdout",
     "output_type": "stream",
     "text": [
      "[[2013.     4.9   58.  ...  759.    69.    19. ]\n",
      " [2018.     4.9   31.  ...  819.    74.    18. ]\n",
      " [2009.     4.8 1793.  ...  778.    57.    11. ]\n",
      " ...\n",
      " [2017.     4.2  390.  ...  302.    24.    10. ]\n",
      " [2011.     4.2  389.  ...  342.    57.    11. ]\n",
      " [2016.     4.2  388.  ...  596.    57.    11. ]]\n"
     ]
    }
   ],
   "source": [
    "df = finaldf.to_numpy()\n",
    "print(df)"
   ]
  },
  {
   "cell_type": "code",
   "execution_count": 73,
   "id": "a17e14f7",
   "metadata": {},
   "outputs": [],
   "source": [
    "import numpy as np\n",
    "from sklearn.cluster import KMeans\n",
    "\n",
    "def kmeans_missing(X, n_clusters, max_iter=10):\n",
    "\n",
    "    missing = ~np.isfinite(X)\n",
    "    mu = np.nanmean(X, 0, keepdims=1)\n",
    "    X_hat = np.where(missing, mu, X)\n",
    "\n",
    "    for i in range(max_iter):\n",
    "        if i > 0:\n",
    "            cls = KMeans(n_clusters, init=prev_centroids)\n",
    "        else:\n",
    "            cls = KMeans(n_clusters, n_jobs=-1)\n",
    "\n",
    "        labels = cls.fit_predict(X_hat)\n",
    "        centroids = cls.cluster_centers_\n",
    " \n",
    "        X_hat[missing] = centroids[labels][missing]\n",
    "\n",
    "        if i > 0 and np.all(labels == prev_labels):\n",
    "            break\n",
    "\n",
    "        prev_labels = labels\n",
    "        prev_centroids = cls.cluster_centers_\n",
    "\n",
    "    return labels, centroids, X_hat"
   ]
  },
  {
   "cell_type": "code",
   "execution_count": 74,
   "id": "37d4cb5d",
   "metadata": {},
   "outputs": [
    {
     "name": "stderr",
     "output_type": "stream",
     "text": [
      "E:\\Anaconda3\\lib\\site-packages\\sklearn\\cluster\\_kmeans.py:792: FutureWarning: 'n_jobs' was deprecated in version 0.23 and will be removed in 1.0 (renaming of 0.25).\n",
      "  warnings.warn(\"'n_jobs' was deprecated in version 0.23 and will be\"\n",
      "E:\\Anaconda3\\lib\\site-packages\\sklearn\\cluster\\_kmeans.py:984: RuntimeWarning: Explicit initial center position passed: performing only one init in KMeans instead of n_init=10.\n",
      "  self._check_params(X)\n"
     ]
    }
   ],
   "source": [
    "labels, centroids, X_hat = kmeans_missing(finaldf, n_clusters=5)"
   ]
  },
  {
   "cell_type": "code",
   "execution_count": 75,
   "id": "3709c029",
   "metadata": {},
   "outputs": [
    {
     "data": {
      "text/plain": [
       "array([[2013. ,    4.9,   58. , ...,  759. ,   69. ,   19. ],\n",
       "       [2018. ,    4.9,   31. , ...,  819. ,   74. ,   18. ],\n",
       "       [2009. ,    4.8, 1793. , ...,  778. ,   57. ,   11. ],\n",
       "       ...,\n",
       "       [2017. ,    4.2,  390. , ...,  302. ,   24. ,   10. ],\n",
       "       [2011. ,    4.2,  389. , ...,  342. ,   57. ,   11. ],\n",
       "       [2016. ,    4.2,  388. , ...,  596. ,   57. ,   11. ]])"
      ]
     },
     "execution_count": 75,
     "metadata": {},
     "output_type": "execute_result"
    }
   ],
   "source": [
    "X_hat"
   ]
  },
  {
   "cell_type": "code",
   "execution_count": 76,
   "id": "0043aa63",
   "metadata": {},
   "outputs": [
    {
     "data": {
      "text/html": [
       "<div>\n",
       "<style scoped>\n",
       "    .dataframe tbody tr th:only-of-type {\n",
       "        vertical-align: middle;\n",
       "    }\n",
       "\n",
       "    .dataframe tbody tr th {\n",
       "        vertical-align: top;\n",
       "    }\n",
       "\n",
       "    .dataframe thead th {\n",
       "        text-align: right;\n",
       "    }\n",
       "</style>\n",
       "<table border=\"1\" class=\"dataframe\">\n",
       "  <thead>\n",
       "    <tr style=\"text-align: right;\">\n",
       "      <th></th>\n",
       "      <th>year</th>\n",
       "      <th>rating</th>\n",
       "      <th>numreviews</th>\n",
       "      <th>price</th>\n",
       "      <th>body</th>\n",
       "      <th>acidity</th>\n",
       "      <th>winerynum</th>\n",
       "      <th>winenum</th>\n",
       "      <th>regionnum</th>\n",
       "      <th>typenum</th>\n",
       "    </tr>\n",
       "  </thead>\n",
       "  <tbody>\n",
       "    <tr>\n",
       "      <th>0</th>\n",
       "      <td>2013.0</td>\n",
       "      <td>4.9</td>\n",
       "      <td>58.0</td>\n",
       "      <td>995.00</td>\n",
       "      <td>5.0</td>\n",
       "      <td>3.0</td>\n",
       "      <td>422.0</td>\n",
       "      <td>759.0</td>\n",
       "      <td>69.0</td>\n",
       "      <td>19.0</td>\n",
       "    </tr>\n",
       "    <tr>\n",
       "      <th>1</th>\n",
       "      <td>2018.0</td>\n",
       "      <td>4.9</td>\n",
       "      <td>31.0</td>\n",
       "      <td>313.50</td>\n",
       "      <td>4.0</td>\n",
       "      <td>2.0</td>\n",
       "      <td>33.0</td>\n",
       "      <td>819.0</td>\n",
       "      <td>74.0</td>\n",
       "      <td>18.0</td>\n",
       "    </tr>\n",
       "    <tr>\n",
       "      <th>2</th>\n",
       "      <td>2009.0</td>\n",
       "      <td>4.8</td>\n",
       "      <td>1793.0</td>\n",
       "      <td>324.95</td>\n",
       "      <td>5.0</td>\n",
       "      <td>3.0</td>\n",
       "      <td>447.0</td>\n",
       "      <td>778.0</td>\n",
       "      <td>57.0</td>\n",
       "      <td>11.0</td>\n",
       "    </tr>\n",
       "    <tr>\n",
       "      <th>3</th>\n",
       "      <td>1999.0</td>\n",
       "      <td>4.8</td>\n",
       "      <td>1705.0</td>\n",
       "      <td>692.96</td>\n",
       "      <td>5.0</td>\n",
       "      <td>3.0</td>\n",
       "      <td>447.0</td>\n",
       "      <td>778.0</td>\n",
       "      <td>57.0</td>\n",
       "      <td>11.0</td>\n",
       "    </tr>\n",
       "    <tr>\n",
       "      <th>4</th>\n",
       "      <td>1996.0</td>\n",
       "      <td>4.8</td>\n",
       "      <td>1309.0</td>\n",
       "      <td>778.06</td>\n",
       "      <td>5.0</td>\n",
       "      <td>3.0</td>\n",
       "      <td>447.0</td>\n",
       "      <td>778.0</td>\n",
       "      <td>57.0</td>\n",
       "      <td>11.0</td>\n",
       "    </tr>\n",
       "  </tbody>\n",
       "</table>\n",
       "</div>"
      ],
      "text/plain": [
       "     year  rating  numreviews   price  body  acidity  winerynum  winenum  \\\n",
       "0  2013.0     4.9        58.0  995.00   5.0      3.0      422.0    759.0   \n",
       "1  2018.0     4.9        31.0  313.50   4.0      2.0       33.0    819.0   \n",
       "2  2009.0     4.8      1793.0  324.95   5.0      3.0      447.0    778.0   \n",
       "3  1999.0     4.8      1705.0  692.96   5.0      3.0      447.0    778.0   \n",
       "4  1996.0     4.8      1309.0  778.06   5.0      3.0      447.0    778.0   \n",
       "\n",
       "   regionnum  typenum  \n",
       "0       69.0     19.0  \n",
       "1       74.0     18.0  \n",
       "2       57.0     11.0  \n",
       "3       57.0     11.0  \n",
       "4       57.0     11.0  "
      ]
     },
     "execution_count": 76,
     "metadata": {},
     "output_type": "execute_result"
    }
   ],
   "source": [
    "df = pd.DataFrame(X_hat, columns = ['year','rating','numreviews','price','body','acidity','winerynum','winenum','regionnum','typenum'])\n",
    "df.head()\n"
   ]
  },
  {
   "cell_type": "code",
   "execution_count": 77,
   "id": "2b62cec3",
   "metadata": {},
   "outputs": [
    {
     "data": {
      "text/plain": [
       "year          0\n",
       "rating        0\n",
       "numreviews    0\n",
       "price         0\n",
       "body          0\n",
       "acidity       0\n",
       "winerynum     0\n",
       "winenum       0\n",
       "regionnum     0\n",
       "typenum       0\n",
       "dtype: int64"
      ]
     },
     "execution_count": 77,
     "metadata": {},
     "output_type": "execute_result"
    }
   ],
   "source": [
    "df.isna().sum()"
   ]
  },
  {
   "cell_type": "code",
   "execution_count": 78,
   "id": "d8c27860",
   "metadata": {},
   "outputs": [],
   "source": [
    "df.winerynum = le1.inverse_transform(df.winerynum.astype(int))\n",
    "df.winenum = le2.inverse_transform(df.winenum.astype(int))\n",
    "df.regionnum = le3.inverse_transform(df.regionnum.astype(int))\n",
    "df.typenum = le4.inverse_transform(df.typenum.astype(int))"
   ]
  },
  {
   "cell_type": "code",
   "execution_count": 79,
   "id": "a7ddee7d",
   "metadata": {},
   "outputs": [
    {
     "data": {
      "text/html": [
       "<div>\n",
       "<style scoped>\n",
       "    .dataframe tbody tr th:only-of-type {\n",
       "        vertical-align: middle;\n",
       "    }\n",
       "\n",
       "    .dataframe tbody tr th {\n",
       "        vertical-align: top;\n",
       "    }\n",
       "\n",
       "    .dataframe thead th {\n",
       "        text-align: right;\n",
       "    }\n",
       "</style>\n",
       "<table border=\"1\" class=\"dataframe\">\n",
       "  <thead>\n",
       "    <tr style=\"text-align: right;\">\n",
       "      <th></th>\n",
       "      <th>year</th>\n",
       "      <th>rating</th>\n",
       "      <th>numreviews</th>\n",
       "      <th>price</th>\n",
       "      <th>body</th>\n",
       "      <th>acidity</th>\n",
       "      <th>winerynum</th>\n",
       "      <th>winenum</th>\n",
       "      <th>regionnum</th>\n",
       "      <th>typenum</th>\n",
       "    </tr>\n",
       "  </thead>\n",
       "  <tbody>\n",
       "    <tr>\n",
       "      <th>0</th>\n",
       "      <td>2013.0</td>\n",
       "      <td>4.9</td>\n",
       "      <td>58.0</td>\n",
       "      <td>995.00</td>\n",
       "      <td>5.0</td>\n",
       "      <td>3.0</td>\n",
       "      <td>Teso La Monja</td>\n",
       "      <td>Tinto</td>\n",
       "      <td>Toro</td>\n",
       "      <td>Toro Red</td>\n",
       "    </tr>\n",
       "    <tr>\n",
       "      <th>1</th>\n",
       "      <td>2018.0</td>\n",
       "      <td>4.9</td>\n",
       "      <td>31.0</td>\n",
       "      <td>313.50</td>\n",
       "      <td>4.0</td>\n",
       "      <td>2.0</td>\n",
       "      <td>Artadi</td>\n",
       "      <td>Vina El Pison</td>\n",
       "      <td>Vino de Espana</td>\n",
       "      <td>Tempranillo</td>\n",
       "    </tr>\n",
       "    <tr>\n",
       "      <th>2</th>\n",
       "      <td>2009.0</td>\n",
       "      <td>4.8</td>\n",
       "      <td>1793.0</td>\n",
       "      <td>324.95</td>\n",
       "      <td>5.0</td>\n",
       "      <td>3.0</td>\n",
       "      <td>Vega Sicilia</td>\n",
       "      <td>Unico</td>\n",
       "      <td>Ribera del Duero</td>\n",
       "      <td>Ribera Del Duero Red</td>\n",
       "    </tr>\n",
       "    <tr>\n",
       "      <th>3</th>\n",
       "      <td>1999.0</td>\n",
       "      <td>4.8</td>\n",
       "      <td>1705.0</td>\n",
       "      <td>692.96</td>\n",
       "      <td>5.0</td>\n",
       "      <td>3.0</td>\n",
       "      <td>Vega Sicilia</td>\n",
       "      <td>Unico</td>\n",
       "      <td>Ribera del Duero</td>\n",
       "      <td>Ribera Del Duero Red</td>\n",
       "    </tr>\n",
       "    <tr>\n",
       "      <th>4</th>\n",
       "      <td>1996.0</td>\n",
       "      <td>4.8</td>\n",
       "      <td>1309.0</td>\n",
       "      <td>778.06</td>\n",
       "      <td>5.0</td>\n",
       "      <td>3.0</td>\n",
       "      <td>Vega Sicilia</td>\n",
       "      <td>Unico</td>\n",
       "      <td>Ribera del Duero</td>\n",
       "      <td>Ribera Del Duero Red</td>\n",
       "    </tr>\n",
       "  </tbody>\n",
       "</table>\n",
       "</div>"
      ],
      "text/plain": [
       "     year  rating  numreviews   price  body  acidity      winerynum  \\\n",
       "0  2013.0     4.9        58.0  995.00   5.0      3.0  Teso La Monja   \n",
       "1  2018.0     4.9        31.0  313.50   4.0      2.0         Artadi   \n",
       "2  2009.0     4.8      1793.0  324.95   5.0      3.0   Vega Sicilia   \n",
       "3  1999.0     4.8      1705.0  692.96   5.0      3.0   Vega Sicilia   \n",
       "4  1996.0     4.8      1309.0  778.06   5.0      3.0   Vega Sicilia   \n",
       "\n",
       "         winenum         regionnum               typenum  \n",
       "0          Tinto              Toro              Toro Red  \n",
       "1  Vina El Pison    Vino de Espana           Tempranillo  \n",
       "2          Unico  Ribera del Duero  Ribera Del Duero Red  \n",
       "3          Unico  Ribera del Duero  Ribera Del Duero Red  \n",
       "4          Unico  Ribera del Duero  Ribera Del Duero Red  "
      ]
     },
     "execution_count": 79,
     "metadata": {},
     "output_type": "execute_result"
    }
   ],
   "source": [
    "df.head()"
   ]
  },
  {
   "cell_type": "code",
   "execution_count": 80,
   "id": "9f5489ec",
   "metadata": {
    "scrolled": false
   },
   "outputs": [],
   "source": [
    "df[['year','body','acidity']] = df[['year','body','acidity']].round()"
   ]
  },
  {
   "cell_type": "code",
   "execution_count": 81,
   "id": "c9e4b359",
   "metadata": {},
   "outputs": [],
   "source": [
    "df.rename(columns={'winerynum': 'winery', 'winenum': 'wine', 'regionnum':'region','typenum':'type'}, inplace=True)"
   ]
  },
  {
   "cell_type": "markdown",
   "id": "6361c968",
   "metadata": {},
   "source": [
    "## New dataframe without missing values"
   ]
  },
  {
   "cell_type": "code",
   "execution_count": 82,
   "id": "79066c5f",
   "metadata": {
    "scrolled": true
   },
   "outputs": [
    {
     "data": {
      "text/html": [
       "<div>\n",
       "<style scoped>\n",
       "    .dataframe tbody tr th:only-of-type {\n",
       "        vertical-align: middle;\n",
       "    }\n",
       "\n",
       "    .dataframe tbody tr th {\n",
       "        vertical-align: top;\n",
       "    }\n",
       "\n",
       "    .dataframe thead th {\n",
       "        text-align: right;\n",
       "    }\n",
       "</style>\n",
       "<table border=\"1\" class=\"dataframe\">\n",
       "  <thead>\n",
       "    <tr style=\"text-align: right;\">\n",
       "      <th></th>\n",
       "      <th>year</th>\n",
       "      <th>rating</th>\n",
       "      <th>numreviews</th>\n",
       "      <th>price</th>\n",
       "      <th>body</th>\n",
       "      <th>acidity</th>\n",
       "      <th>winery</th>\n",
       "      <th>wine</th>\n",
       "      <th>region</th>\n",
       "      <th>type</th>\n",
       "    </tr>\n",
       "  </thead>\n",
       "  <tbody>\n",
       "    <tr>\n",
       "      <th>0</th>\n",
       "      <td>2013.0</td>\n",
       "      <td>4.9</td>\n",
       "      <td>58.0</td>\n",
       "      <td>995.00</td>\n",
       "      <td>5.0</td>\n",
       "      <td>3.0</td>\n",
       "      <td>Teso La Monja</td>\n",
       "      <td>Tinto</td>\n",
       "      <td>Toro</td>\n",
       "      <td>Toro Red</td>\n",
       "    </tr>\n",
       "    <tr>\n",
       "      <th>1</th>\n",
       "      <td>2018.0</td>\n",
       "      <td>4.9</td>\n",
       "      <td>31.0</td>\n",
       "      <td>313.50</td>\n",
       "      <td>4.0</td>\n",
       "      <td>2.0</td>\n",
       "      <td>Artadi</td>\n",
       "      <td>Vina El Pison</td>\n",
       "      <td>Vino de Espana</td>\n",
       "      <td>Tempranillo</td>\n",
       "    </tr>\n",
       "    <tr>\n",
       "      <th>2</th>\n",
       "      <td>2009.0</td>\n",
       "      <td>4.8</td>\n",
       "      <td>1793.0</td>\n",
       "      <td>324.95</td>\n",
       "      <td>5.0</td>\n",
       "      <td>3.0</td>\n",
       "      <td>Vega Sicilia</td>\n",
       "      <td>Unico</td>\n",
       "      <td>Ribera del Duero</td>\n",
       "      <td>Ribera Del Duero Red</td>\n",
       "    </tr>\n",
       "    <tr>\n",
       "      <th>3</th>\n",
       "      <td>1999.0</td>\n",
       "      <td>4.8</td>\n",
       "      <td>1705.0</td>\n",
       "      <td>692.96</td>\n",
       "      <td>5.0</td>\n",
       "      <td>3.0</td>\n",
       "      <td>Vega Sicilia</td>\n",
       "      <td>Unico</td>\n",
       "      <td>Ribera del Duero</td>\n",
       "      <td>Ribera Del Duero Red</td>\n",
       "    </tr>\n",
       "    <tr>\n",
       "      <th>4</th>\n",
       "      <td>1996.0</td>\n",
       "      <td>4.8</td>\n",
       "      <td>1309.0</td>\n",
       "      <td>778.06</td>\n",
       "      <td>5.0</td>\n",
       "      <td>3.0</td>\n",
       "      <td>Vega Sicilia</td>\n",
       "      <td>Unico</td>\n",
       "      <td>Ribera del Duero</td>\n",
       "      <td>Ribera Del Duero Red</td>\n",
       "    </tr>\n",
       "  </tbody>\n",
       "</table>\n",
       "</div>"
      ],
      "text/plain": [
       "     year  rating  numreviews   price  body  acidity         winery  \\\n",
       "0  2013.0     4.9        58.0  995.00   5.0      3.0  Teso La Monja   \n",
       "1  2018.0     4.9        31.0  313.50   4.0      2.0         Artadi   \n",
       "2  2009.0     4.8      1793.0  324.95   5.0      3.0   Vega Sicilia   \n",
       "3  1999.0     4.8      1705.0  692.96   5.0      3.0   Vega Sicilia   \n",
       "4  1996.0     4.8      1309.0  778.06   5.0      3.0   Vega Sicilia   \n",
       "\n",
       "            wine            region                  type  \n",
       "0          Tinto              Toro              Toro Red  \n",
       "1  Vina El Pison    Vino de Espana           Tempranillo  \n",
       "2          Unico  Ribera del Duero  Ribera Del Duero Red  \n",
       "3          Unico  Ribera del Duero  Ribera Del Duero Red  \n",
       "4          Unico  Ribera del Duero  Ribera Del Duero Red  "
      ]
     },
     "execution_count": 82,
     "metadata": {},
     "output_type": "execute_result"
    }
   ],
   "source": [
    "df.head()"
   ]
  },
  {
   "cell_type": "markdown",
   "id": "30ba89dd",
   "metadata": {},
   "source": [
    "## Creating \"quality\" feature based on the bayesian average of rating and number of reviews"
   ]
  },
  {
   "cell_type": "code",
   "execution_count": 83,
   "id": "4045cdbb",
   "metadata": {},
   "outputs": [
    {
     "data": {
      "text/html": [
       "<div>\n",
       "<style scoped>\n",
       "    .dataframe tbody tr th:only-of-type {\n",
       "        vertical-align: middle;\n",
       "    }\n",
       "\n",
       "    .dataframe tbody tr th {\n",
       "        vertical-align: top;\n",
       "    }\n",
       "\n",
       "    .dataframe thead th {\n",
       "        text-align: right;\n",
       "    }\n",
       "</style>\n",
       "<table border=\"1\" class=\"dataframe\">\n",
       "  <thead>\n",
       "    <tr style=\"text-align: right;\">\n",
       "      <th></th>\n",
       "      <th>year</th>\n",
       "      <th>rating</th>\n",
       "      <th>numreviews</th>\n",
       "      <th>price</th>\n",
       "      <th>body</th>\n",
       "      <th>acidity</th>\n",
       "      <th>winery</th>\n",
       "      <th>wine</th>\n",
       "      <th>region</th>\n",
       "      <th>type</th>\n",
       "      <th>quality</th>\n",
       "    </tr>\n",
       "  </thead>\n",
       "  <tbody>\n",
       "    <tr>\n",
       "      <th>0</th>\n",
       "      <td>2013.0</td>\n",
       "      <td>4.9</td>\n",
       "      <td>58.0</td>\n",
       "      <td>995.00</td>\n",
       "      <td>5.0</td>\n",
       "      <td>3.0</td>\n",
       "      <td>Teso La Monja</td>\n",
       "      <td>Tinto</td>\n",
       "      <td>Toro</td>\n",
       "      <td>Toro Red</td>\n",
       "      <td>4.338633</td>\n",
       "    </tr>\n",
       "    <tr>\n",
       "      <th>1</th>\n",
       "      <td>2018.0</td>\n",
       "      <td>4.9</td>\n",
       "      <td>31.0</td>\n",
       "      <td>313.50</td>\n",
       "      <td>4.0</td>\n",
       "      <td>2.0</td>\n",
       "      <td>Artadi</td>\n",
       "      <td>Vina El Pison</td>\n",
       "      <td>Vino de Espana</td>\n",
       "      <td>Tempranillo</td>\n",
       "      <td>4.302545</td>\n",
       "    </tr>\n",
       "    <tr>\n",
       "      <th>2</th>\n",
       "      <td>2009.0</td>\n",
       "      <td>4.8</td>\n",
       "      <td>1793.0</td>\n",
       "      <td>324.95</td>\n",
       "      <td>5.0</td>\n",
       "      <td>3.0</td>\n",
       "      <td>Vega Sicilia</td>\n",
       "      <td>Unico</td>\n",
       "      <td>Ribera del Duero</td>\n",
       "      <td>Ribera Del Duero Red</td>\n",
       "      <td>4.702827</td>\n",
       "    </tr>\n",
       "    <tr>\n",
       "      <th>3</th>\n",
       "      <td>1999.0</td>\n",
       "      <td>4.8</td>\n",
       "      <td>1705.0</td>\n",
       "      <td>692.96</td>\n",
       "      <td>5.0</td>\n",
       "      <td>3.0</td>\n",
       "      <td>Vega Sicilia</td>\n",
       "      <td>Unico</td>\n",
       "      <td>Ribera del Duero</td>\n",
       "      <td>Ribera Del Duero Red</td>\n",
       "      <td>4.698744</td>\n",
       "    </tr>\n",
       "    <tr>\n",
       "      <th>4</th>\n",
       "      <td>1996.0</td>\n",
       "      <td>4.8</td>\n",
       "      <td>1309.0</td>\n",
       "      <td>778.06</td>\n",
       "      <td>5.0</td>\n",
       "      <td>3.0</td>\n",
       "      <td>Vega Sicilia</td>\n",
       "      <td>Unico</td>\n",
       "      <td>Ribera del Duero</td>\n",
       "      <td>Ribera Del Duero Red</td>\n",
       "      <td>4.675129</td>\n",
       "    </tr>\n",
       "  </tbody>\n",
       "</table>\n",
       "</div>"
      ],
      "text/plain": [
       "     year  rating  numreviews   price  body  acidity         winery  \\\n",
       "0  2013.0     4.9        58.0  995.00   5.0      3.0  Teso La Monja   \n",
       "1  2018.0     4.9        31.0  313.50   4.0      2.0         Artadi   \n",
       "2  2009.0     4.8      1793.0  324.95   5.0      3.0   Vega Sicilia   \n",
       "3  1999.0     4.8      1705.0  692.96   5.0      3.0   Vega Sicilia   \n",
       "4  1996.0     4.8      1309.0  778.06   5.0      3.0   Vega Sicilia   \n",
       "\n",
       "            wine            region                  type   quality  \n",
       "0          Tinto              Toro              Toro Red  4.338633  \n",
       "1  Vina El Pison    Vino de Espana           Tempranillo  4.302545  \n",
       "2          Unico  Ribera del Duero  Ribera Del Duero Red  4.702827  \n",
       "3          Unico  Ribera del Duero  Ribera Del Duero Red  4.698744  \n",
       "4          Unico  Ribera del Duero  Ribera Del Duero Red  4.675129  "
      ]
     },
     "execution_count": 83,
     "metadata": {},
     "output_type": "execute_result"
    }
   ],
   "source": [
    "df['quality'] = (df.rating*df.numreviews+389*4.254933)/(df.numreviews+389)\n",
    "df.head()"
   ]
  },
  {
   "cell_type": "code",
   "execution_count": 84,
   "id": "012b8d9d",
   "metadata": {
    "scrolled": true
   },
   "outputs": [
    {
     "data": {
      "text/html": [
       "<div>\n",
       "<style scoped>\n",
       "    .dataframe tbody tr th:only-of-type {\n",
       "        vertical-align: middle;\n",
       "    }\n",
       "\n",
       "    .dataframe tbody tr th {\n",
       "        vertical-align: top;\n",
       "    }\n",
       "\n",
       "    .dataframe thead th {\n",
       "        text-align: right;\n",
       "    }\n",
       "</style>\n",
       "<table border=\"1\" class=\"dataframe\">\n",
       "  <thead>\n",
       "    <tr style=\"text-align: right;\">\n",
       "      <th></th>\n",
       "      <th>year</th>\n",
       "      <th>rating</th>\n",
       "      <th>numreviews</th>\n",
       "      <th>price</th>\n",
       "      <th>body</th>\n",
       "      <th>acidity</th>\n",
       "      <th>quality</th>\n",
       "    </tr>\n",
       "  </thead>\n",
       "  <tbody>\n",
       "    <tr>\n",
       "      <th>count</th>\n",
       "      <td>7500.000000</td>\n",
       "      <td>7500.000000</td>\n",
       "      <td>7500.000000</td>\n",
       "      <td>7500.000000</td>\n",
       "      <td>7500.000000</td>\n",
       "      <td>7500.000000</td>\n",
       "      <td>7500.000000</td>\n",
       "    </tr>\n",
       "    <tr>\n",
       "      <th>mean</th>\n",
       "      <td>2013.480533</td>\n",
       "      <td>4.254933</td>\n",
       "      <td>451.109067</td>\n",
       "      <td>60.095822</td>\n",
       "      <td>4.139867</td>\n",
       "      <td>2.954933</td>\n",
       "      <td>4.246647</td>\n",
       "    </tr>\n",
       "    <tr>\n",
       "      <th>std</th>\n",
       "      <td>6.805610</td>\n",
       "      <td>0.118029</td>\n",
       "      <td>723.001856</td>\n",
       "      <td>150.356676</td>\n",
       "      <td>0.543148</td>\n",
       "      <td>0.228858</td>\n",
       "      <td>0.049479</td>\n",
       "    </tr>\n",
       "    <tr>\n",
       "      <th>min</th>\n",
       "      <td>1910.000000</td>\n",
       "      <td>4.200000</td>\n",
       "      <td>25.000000</td>\n",
       "      <td>4.990000</td>\n",
       "      <td>2.000000</td>\n",
       "      <td>1.000000</td>\n",
       "      <td>4.200647</td>\n",
       "    </tr>\n",
       "    <tr>\n",
       "      <th>25%</th>\n",
       "      <td>2011.000000</td>\n",
       "      <td>4.200000</td>\n",
       "      <td>389.000000</td>\n",
       "      <td>18.900000</td>\n",
       "      <td>4.000000</td>\n",
       "      <td>3.000000</td>\n",
       "      <td>4.226678</td>\n",
       "    </tr>\n",
       "    <tr>\n",
       "      <th>50%</th>\n",
       "      <td>2015.000000</td>\n",
       "      <td>4.200000</td>\n",
       "      <td>404.000000</td>\n",
       "      <td>28.530000</td>\n",
       "      <td>4.000000</td>\n",
       "      <td>3.000000</td>\n",
       "      <td>4.227015</td>\n",
       "    </tr>\n",
       "    <tr>\n",
       "      <th>75%</th>\n",
       "      <td>2017.000000</td>\n",
       "      <td>4.200000</td>\n",
       "      <td>415.000000</td>\n",
       "      <td>51.350000</td>\n",
       "      <td>4.000000</td>\n",
       "      <td>3.000000</td>\n",
       "      <td>4.227644</td>\n",
       "    </tr>\n",
       "    <tr>\n",
       "      <th>max</th>\n",
       "      <td>2021.000000</td>\n",
       "      <td>4.900000</td>\n",
       "      <td>32624.000000</td>\n",
       "      <td>3119.080000</td>\n",
       "      <td>5.000000</td>\n",
       "      <td>3.000000</td>\n",
       "      <td>4.702827</td>\n",
       "    </tr>\n",
       "  </tbody>\n",
       "</table>\n",
       "</div>"
      ],
      "text/plain": [
       "              year       rating    numreviews        price         body  \\\n",
       "count  7500.000000  7500.000000   7500.000000  7500.000000  7500.000000   \n",
       "mean   2013.480533     4.254933    451.109067    60.095822     4.139867   \n",
       "std       6.805610     0.118029    723.001856   150.356676     0.543148   \n",
       "min    1910.000000     4.200000     25.000000     4.990000     2.000000   \n",
       "25%    2011.000000     4.200000    389.000000    18.900000     4.000000   \n",
       "50%    2015.000000     4.200000    404.000000    28.530000     4.000000   \n",
       "75%    2017.000000     4.200000    415.000000    51.350000     4.000000   \n",
       "max    2021.000000     4.900000  32624.000000  3119.080000     5.000000   \n",
       "\n",
       "           acidity      quality  \n",
       "count  7500.000000  7500.000000  \n",
       "mean      2.954933     4.246647  \n",
       "std       0.228858     0.049479  \n",
       "min       1.000000     4.200647  \n",
       "25%       3.000000     4.226678  \n",
       "50%       3.000000     4.227015  \n",
       "75%       3.000000     4.227644  \n",
       "max       3.000000     4.702827  "
      ]
     },
     "execution_count": 84,
     "metadata": {},
     "output_type": "execute_result"
    }
   ],
   "source": [
    "df.describe()"
   ]
  },
  {
   "cell_type": "markdown",
   "id": "75d05849",
   "metadata": {},
   "source": [
    "## Creating \"qualcat\" feature based on binned values of quality"
   ]
  },
  {
   "cell_type": "code",
   "execution_count": 85,
   "id": "d4ac8129",
   "metadata": {},
   "outputs": [],
   "source": [
    "conditions = [\n",
    "    (df['quality'] < 4.3),\n",
    "    (df['quality'] >= 4.3) & (df['quality'] < 4.4),\n",
    "    (df['quality'] >= 4.4) & (df['quality'] < 4.5),\n",
    "    (df['quality'] >= 4.5) & (df['quality'] < 4.6),\n",
    "    (df['quality'] >= 4.6)\n",
    "    ]\n",
    "\n",
    "values = ['1','2','3','4','5']\n",
    "df['qualcat'] = np.select(conditions, values).astype(int)"
   ]
  },
  {
   "cell_type": "code",
   "execution_count": 86,
   "id": "262a30e3",
   "metadata": {},
   "outputs": [
    {
     "data": {
      "text/html": [
       "<div>\n",
       "<style scoped>\n",
       "    .dataframe tbody tr th:only-of-type {\n",
       "        vertical-align: middle;\n",
       "    }\n",
       "\n",
       "    .dataframe tbody tr th {\n",
       "        vertical-align: top;\n",
       "    }\n",
       "\n",
       "    .dataframe thead th {\n",
       "        text-align: right;\n",
       "    }\n",
       "</style>\n",
       "<table border=\"1\" class=\"dataframe\">\n",
       "  <thead>\n",
       "    <tr style=\"text-align: right;\">\n",
       "      <th></th>\n",
       "      <th>year</th>\n",
       "      <th>rating</th>\n",
       "      <th>numreviews</th>\n",
       "      <th>price</th>\n",
       "      <th>body</th>\n",
       "      <th>acidity</th>\n",
       "      <th>winery</th>\n",
       "      <th>wine</th>\n",
       "      <th>region</th>\n",
       "      <th>type</th>\n",
       "      <th>quality</th>\n",
       "      <th>qualcat</th>\n",
       "    </tr>\n",
       "  </thead>\n",
       "  <tbody>\n",
       "    <tr>\n",
       "      <th>0</th>\n",
       "      <td>2013.0</td>\n",
       "      <td>4.9</td>\n",
       "      <td>58.0</td>\n",
       "      <td>995.00</td>\n",
       "      <td>5.0</td>\n",
       "      <td>3.0</td>\n",
       "      <td>Teso La Monja</td>\n",
       "      <td>Tinto</td>\n",
       "      <td>Toro</td>\n",
       "      <td>Toro Red</td>\n",
       "      <td>4.338633</td>\n",
       "      <td>2</td>\n",
       "    </tr>\n",
       "    <tr>\n",
       "      <th>1</th>\n",
       "      <td>2018.0</td>\n",
       "      <td>4.9</td>\n",
       "      <td>31.0</td>\n",
       "      <td>313.50</td>\n",
       "      <td>4.0</td>\n",
       "      <td>2.0</td>\n",
       "      <td>Artadi</td>\n",
       "      <td>Vina El Pison</td>\n",
       "      <td>Vino de Espana</td>\n",
       "      <td>Tempranillo</td>\n",
       "      <td>4.302545</td>\n",
       "      <td>2</td>\n",
       "    </tr>\n",
       "    <tr>\n",
       "      <th>2</th>\n",
       "      <td>2009.0</td>\n",
       "      <td>4.8</td>\n",
       "      <td>1793.0</td>\n",
       "      <td>324.95</td>\n",
       "      <td>5.0</td>\n",
       "      <td>3.0</td>\n",
       "      <td>Vega Sicilia</td>\n",
       "      <td>Unico</td>\n",
       "      <td>Ribera del Duero</td>\n",
       "      <td>Ribera Del Duero Red</td>\n",
       "      <td>4.702827</td>\n",
       "      <td>5</td>\n",
       "    </tr>\n",
       "    <tr>\n",
       "      <th>3</th>\n",
       "      <td>1999.0</td>\n",
       "      <td>4.8</td>\n",
       "      <td>1705.0</td>\n",
       "      <td>692.96</td>\n",
       "      <td>5.0</td>\n",
       "      <td>3.0</td>\n",
       "      <td>Vega Sicilia</td>\n",
       "      <td>Unico</td>\n",
       "      <td>Ribera del Duero</td>\n",
       "      <td>Ribera Del Duero Red</td>\n",
       "      <td>4.698744</td>\n",
       "      <td>5</td>\n",
       "    </tr>\n",
       "    <tr>\n",
       "      <th>4</th>\n",
       "      <td>1996.0</td>\n",
       "      <td>4.8</td>\n",
       "      <td>1309.0</td>\n",
       "      <td>778.06</td>\n",
       "      <td>5.0</td>\n",
       "      <td>3.0</td>\n",
       "      <td>Vega Sicilia</td>\n",
       "      <td>Unico</td>\n",
       "      <td>Ribera del Duero</td>\n",
       "      <td>Ribera Del Duero Red</td>\n",
       "      <td>4.675129</td>\n",
       "      <td>5</td>\n",
       "    </tr>\n",
       "    <tr>\n",
       "      <th>5</th>\n",
       "      <td>1998.0</td>\n",
       "      <td>4.8</td>\n",
       "      <td>1209.0</td>\n",
       "      <td>490.00</td>\n",
       "      <td>5.0</td>\n",
       "      <td>3.0</td>\n",
       "      <td>Vega Sicilia</td>\n",
       "      <td>Unico</td>\n",
       "      <td>Ribera del Duero</td>\n",
       "      <td>Ribera Del Duero Red</td>\n",
       "      <td>4.667315</td>\n",
       "      <td>5</td>\n",
       "    </tr>\n",
       "    <tr>\n",
       "      <th>6</th>\n",
       "      <td>2010.0</td>\n",
       "      <td>4.8</td>\n",
       "      <td>1201.0</td>\n",
       "      <td>349.00</td>\n",
       "      <td>5.0</td>\n",
       "      <td>3.0</td>\n",
       "      <td>Vega Sicilia</td>\n",
       "      <td>Unico</td>\n",
       "      <td>Ribera del Duero</td>\n",
       "      <td>Ribera Del Duero Red</td>\n",
       "      <td>4.666647</td>\n",
       "      <td>5</td>\n",
       "    </tr>\n",
       "    <tr>\n",
       "      <th>7</th>\n",
       "      <td>1995.0</td>\n",
       "      <td>4.8</td>\n",
       "      <td>926.0</td>\n",
       "      <td>810.89</td>\n",
       "      <td>5.0</td>\n",
       "      <td>3.0</td>\n",
       "      <td>Vega Sicilia</td>\n",
       "      <td>Unico</td>\n",
       "      <td>Ribera del Duero</td>\n",
       "      <td>Ribera Del Duero Red</td>\n",
       "      <td>4.638760</td>\n",
       "      <td>5</td>\n",
       "    </tr>\n",
       "    <tr>\n",
       "      <th>8</th>\n",
       "      <td>2015.0</td>\n",
       "      <td>4.8</td>\n",
       "      <td>643.0</td>\n",
       "      <td>345.00</td>\n",
       "      <td>5.0</td>\n",
       "      <td>3.0</td>\n",
       "      <td>Vega Sicilia</td>\n",
       "      <td>Unico Reserva Especial Edicion</td>\n",
       "      <td>Ribera del Duero</td>\n",
       "      <td>Ribera Del Duero Red</td>\n",
       "      <td>4.594544</td>\n",
       "      <td>4</td>\n",
       "    </tr>\n",
       "    <tr>\n",
       "      <th>9</th>\n",
       "      <td>2011.0</td>\n",
       "      <td>4.8</td>\n",
       "      <td>630.0</td>\n",
       "      <td>315.00</td>\n",
       "      <td>5.0</td>\n",
       "      <td>3.0</td>\n",
       "      <td>Vega Sicilia</td>\n",
       "      <td>Unico</td>\n",
       "      <td>Ribera del Duero</td>\n",
       "      <td>Ribera Del Duero Red</td>\n",
       "      <td>4.591922</td>\n",
       "      <td>4</td>\n",
       "    </tr>\n",
       "  </tbody>\n",
       "</table>\n",
       "</div>"
      ],
      "text/plain": [
       "     year  rating  numreviews   price  body  acidity         winery  \\\n",
       "0  2013.0     4.9        58.0  995.00   5.0      3.0  Teso La Monja   \n",
       "1  2018.0     4.9        31.0  313.50   4.0      2.0         Artadi   \n",
       "2  2009.0     4.8      1793.0  324.95   5.0      3.0   Vega Sicilia   \n",
       "3  1999.0     4.8      1705.0  692.96   5.0      3.0   Vega Sicilia   \n",
       "4  1996.0     4.8      1309.0  778.06   5.0      3.0   Vega Sicilia   \n",
       "5  1998.0     4.8      1209.0  490.00   5.0      3.0   Vega Sicilia   \n",
       "6  2010.0     4.8      1201.0  349.00   5.0      3.0   Vega Sicilia   \n",
       "7  1995.0     4.8       926.0  810.89   5.0      3.0   Vega Sicilia   \n",
       "8  2015.0     4.8       643.0  345.00   5.0      3.0   Vega Sicilia   \n",
       "9  2011.0     4.8       630.0  315.00   5.0      3.0   Vega Sicilia   \n",
       "\n",
       "                             wine            region                  type  \\\n",
       "0                           Tinto              Toro              Toro Red   \n",
       "1                   Vina El Pison    Vino de Espana           Tempranillo   \n",
       "2                           Unico  Ribera del Duero  Ribera Del Duero Red   \n",
       "3                           Unico  Ribera del Duero  Ribera Del Duero Red   \n",
       "4                           Unico  Ribera del Duero  Ribera Del Duero Red   \n",
       "5                           Unico  Ribera del Duero  Ribera Del Duero Red   \n",
       "6                           Unico  Ribera del Duero  Ribera Del Duero Red   \n",
       "7                           Unico  Ribera del Duero  Ribera Del Duero Red   \n",
       "8  Unico Reserva Especial Edicion  Ribera del Duero  Ribera Del Duero Red   \n",
       "9                           Unico  Ribera del Duero  Ribera Del Duero Red   \n",
       "\n",
       "    quality  qualcat  \n",
       "0  4.338633        2  \n",
       "1  4.302545        2  \n",
       "2  4.702827        5  \n",
       "3  4.698744        5  \n",
       "4  4.675129        5  \n",
       "5  4.667315        5  \n",
       "6  4.666647        5  \n",
       "7  4.638760        5  \n",
       "8  4.594544        4  \n",
       "9  4.591922        4  "
      ]
     },
     "execution_count": 86,
     "metadata": {},
     "output_type": "execute_result"
    }
   ],
   "source": [
    "df.head(10)"
   ]
  },
  {
   "cell_type": "markdown",
   "id": "24933906",
   "metadata": {},
   "source": [
    "## Data Analysis"
   ]
  },
  {
   "cell_type": "code",
   "execution_count": 87,
   "id": "07681bca",
   "metadata": {},
   "outputs": [
    {
     "name": "stdout",
     "output_type": "stream",
     "text": [
      "<class 'pandas.core.frame.DataFrame'>\n",
      "RangeIndex: 7500 entries, 0 to 7499\n",
      "Data columns (total 12 columns):\n",
      " #   Column      Non-Null Count  Dtype  \n",
      "---  ------      --------------  -----  \n",
      " 0   year        7500 non-null   float64\n",
      " 1   rating      7500 non-null   float64\n",
      " 2   numreviews  7500 non-null   float64\n",
      " 3   price       7500 non-null   float64\n",
      " 4   body        7500 non-null   float64\n",
      " 5   acidity     7500 non-null   float64\n",
      " 6   winery      7500 non-null   object \n",
      " 7   wine        7500 non-null   object \n",
      " 8   region      7500 non-null   object \n",
      " 9   type        7500 non-null   object \n",
      " 10  quality     7500 non-null   float64\n",
      " 11  qualcat     7500 non-null   int32  \n",
      "dtypes: float64(7), int32(1), object(4)\n",
      "memory usage: 674.0+ KB\n"
     ]
    }
   ],
   "source": [
    "df.info()"
   ]
  },
  {
   "cell_type": "code",
   "execution_count": 88,
   "id": "cdb8c070",
   "metadata": {},
   "outputs": [
    {
     "data": {
      "image/png": "[encoded data removed]",
      "text/plain": [
       "<Figure size 720x432 with 1 Axes>"
      ]
     },
     "metadata": {
      "needs_background": "light"
     },
     "output_type": "display_data"
    }
   ],
   "source": [
    "figure = plt.figure(figsize=(10, 6))\n",
    "\n",
    "axes = figure.add_subplot(1, 1, 1)\n",
    "axes.hist(df.year, color=\"darkslategray\")\n",
    "axes.set_title(\"Distribution of Year\")\n",
    "axes.set_xlabel(\"Year\")\n",
    "axes.set_ylabel(\"Count\")\n",
    "\n",
    "plt.show()\n",
    "plt.close()"
   ]
  },
  {
   "cell_type": "code",
   "execution_count": 89,
   "id": "c50b660d",
   "metadata": {
    "scrolled": true
   },
   "outputs": [
    {
     "data": {
      "text/plain": [
       "4.2    5679\n",
       "4.3     707\n",
       "4.4     484\n",
       "4.5     281\n",
       "4.6     191\n",
       "4.7     112\n",
       "4.8      44\n",
       "4.9       2\n",
       "Name: rating, dtype: int64"
      ]
     },
     "execution_count": 89,
     "metadata": {},
     "output_type": "execute_result"
    }
   ],
   "source": [
    "df.rating.value_counts()"
   ]
  },
  {
   "cell_type": "code",
   "execution_count": 90,
   "id": "71e224d4",
   "metadata": {},
   "outputs": [
    {
     "data": {
      "image/png": "[encoded data removed]",
      "text/plain": [
       "<Figure size 720x432 with 1 Axes>"
      ]
     },
     "metadata": {
      "needs_background": "light"
     },
     "output_type": "display_data"
    }
   ],
   "source": [
    "figure = plt.figure(figsize=(10, 6))\n",
    "\n",
    "axes = figure.add_subplot(1, 1, 1)\n",
    "axes.hist(df.rating, color=\"darkslategray\", bins=7)\n",
    "axes.set_title(\"Distribution of Rating\")\n",
    "axes.set_xlabel(\"Rating\")\n",
    "axes.set_ylabel(\"Count\")\n",
    "\n",
    "plt.show()\n",
    "plt.close()"
   ]
  },
  {
   "cell_type": "code",
   "execution_count": 91,
   "id": "4267a7bf",
   "metadata": {},
   "outputs": [
    {
     "data": {
      "image/png": "[encoded data removed]",
      "text/plain": [
       "<Figure size 720x432 with 1 Axes>"
      ]
     },
     "metadata": {
      "needs_background": "light"
     },
     "output_type": "display_data"
    }
   ],
   "source": [
    "figure = plt.figure(figsize=(10, 6))\n",
    "\n",
    "axes = figure.add_subplot(1, 1, 1)\n",
    "axes.hist(df.numreviews, color=\"darkslategray\")\n",
    "axes.set_title(\"Distribution of Number of Reviews\")\n",
    "axes.set_xlabel(\"Number of Reviews\")\n",
    "axes.set_ylabel(\"Count\")\n",
    "\n",
    "plt.show()\n",
    "plt.close()"
   ]
  },
  {
   "cell_type": "code",
   "execution_count": 92,
   "id": "3028062b",
   "metadata": {},
   "outputs": [
    {
     "data": {
      "image/png": "[encoded data removed]",
      "text/plain": [
       "<Figure size 720x432 with 1 Axes>"
      ]
     },
     "metadata": {
      "needs_background": "light"
     },
     "output_type": "display_data"
    }
   ],
   "source": [
    "figure = plt.figure(figsize=(10, 6))\n",
    "\n",
    "axes = figure.add_subplot(1, 1, 1)\n",
    "axes.hist(df.price, color=\"darkslategray\")\n",
    "axes.set_title(\"Distribution of Price\")\n",
    "axes.set_xlabel(\"Price\")\n",
    "axes.set_ylabel(\"Count\")\n",
    "\n",
    "plt.show()\n",
    "plt.close()"
   ]
  },
  {
   "cell_type": "code",
   "execution_count": 93,
   "id": "1e061d39",
   "metadata": {},
   "outputs": [
    {
     "data": {
      "text/plain": [
       "4.0    5243\n",
       "5.0    1670\n",
       "3.0     553\n",
       "2.0      34\n",
       "Name: body, dtype: int64"
      ]
     },
     "execution_count": 93,
     "metadata": {},
     "output_type": "execute_result"
    }
   ],
   "source": [
    "df.body.value_counts()"
   ]
  },
  {
   "cell_type": "code",
   "execution_count": 94,
   "id": "3fdd1d17",
   "metadata": {},
   "outputs": [
    {
     "data": {
      "image/png": "[encoded data removed]",
      "text/plain": [
       "<Figure size 720x432 with 1 Axes>"
      ]
     },
     "metadata": {
      "needs_background": "light"
     },
     "output_type": "display_data"
    }
   ],
   "source": [
    "data = df.body.value_counts(normalize=True)\n",
    "x = range( len( data))\n",
    "width = 1/1.5\n",
    "\n",
    "figure = plt.figure(figsize=(10, 6))\n",
    "\n",
    "axes = figure.add_subplot(1, 1, 1)\n",
    "axes.bar(x, data, width, align=\"center\", color=\"darkslategray\")\n",
    "axes.set_xticks([0, 1, 2, 3])\n",
    "axes.set_xticklabels(data.axes[0])\n",
    "axes.set_title( \"Distribution of Body\")\n",
    "axes.set_xlabel(\"Body\")\n",
    "axes.set_ylabel( \"Percent\")\n",
    "axes.xaxis.grid(False)\n",
    "\n",
    "plt.show()\n",
    "plt.close()"
   ]
  },
  {
   "cell_type": "code",
   "execution_count": 95,
   "id": "8eb4a8a3",
   "metadata": {},
   "outputs": [
    {
     "data": {
      "image/png": "[encoded data removed]",
      "text/plain": [
       "<Figure size 720x432 with 1 Axes>"
      ]
     },
     "metadata": {
      "needs_background": "light"
     },
     "output_type": "display_data"
    }
   ],
   "source": [
    "data = df.qualcat.value_counts(normalize=True)\n",
    "x = range( len( data))\n",
    "width = 1/1.5\n",
    "\n",
    "figure = plt.figure(figsize=(10, 6))\n",
    "\n",
    "axes = figure.add_subplot(1, 1, 1)\n",
    "axes.bar(x, data, width, align=\"center\", color=\"darkslategray\")\n",
    "axes.set_xticks([0, 1, 2, 3, 4])\n",
    "axes.set_xticklabels(data.axes[0])\n",
    "axes.set_title( \"Distribution of Qualcat\")\n",
    "axes.set_xlabel(\"Qualcat\")\n",
    "axes.set_ylabel( \"Percent\")\n",
    "axes.xaxis.grid(False)\n",
    "\n",
    "plt.show()\n",
    "plt.close()"
   ]
  },
  {
   "cell_type": "code",
   "execution_count": 96,
   "id": "cc70ab83",
   "metadata": {},
   "outputs": [
    {
     "data": {
      "text/plain": [
       "3.0    7197\n",
       "2.0     268\n",
       "1.0      35\n",
       "Name: acidity, dtype: int64"
      ]
     },
     "execution_count": 96,
     "metadata": {},
     "output_type": "execute_result"
    }
   ],
   "source": [
    "df.acidity.value_counts()"
   ]
  },
  {
   "cell_type": "code",
   "execution_count": 97,
   "id": "2b90079f",
   "metadata": {},
   "outputs": [
    {
     "data": {
      "image/png": "[encoded data removed]",
      "text/plain": [
       "<Figure size 720x432 with 1 Axes>"
      ]
     },
     "metadata": {
      "needs_background": "light"
     },
     "output_type": "display_data"
    }
   ],
   "source": [
    "data = df.acidity.value_counts(normalize=True)\n",
    "x = range( len( data))\n",
    "width = 1/1.5\n",
    "\n",
    "figure = plt.figure(figsize=(10, 6))\n",
    "\n",
    "axes = figure.add_subplot(1, 1, 1)\n",
    "axes.bar(x, data, width, align=\"center\", color=\"darkslategray\")\n",
    "axes.set_xticks([0, 1, 2])\n",
    "axes.set_xticklabels(data.axes[0])\n",
    "axes.set_title( \"Distribution of Acidity\")\n",
    "axes.set_xlabel(\"Acidity\")\n",
    "axes.set_ylabel( \"Percent\")\n",
    "axes.xaxis.grid(False)\n",
    "\n",
    "plt.show()\n",
    "plt.close()"
   ]
  },
  {
   "cell_type": "code",
   "execution_count": 98,
   "id": "fd01b48e",
   "metadata": {
    "scrolled": false
   },
   "outputs": [
    {
     "data": {
      "image/png": "[encoded data removed]",
      "text/plain": [
       "<Figure size 720x432 with 1 Axes>"
      ]
     },
     "metadata": {
      "needs_background": "light"
     },
     "output_type": "display_data"
    }
   ],
   "source": [
    "figure = plt.figure(figsize=(10, 6))\n",
    "\n",
    "axes = figure.add_subplot(1, 1, 1)\n",
    "axes.hist(df.quality, color=\"darkslategray\")\n",
    "axes.set_title(\"Distribution of Quality\")\n",
    "axes.set_xlabel(\"Quality\")\n",
    "axes.set_ylabel(\"Count\")\n",
    "\n",
    "plt.show()\n",
    "plt.close()"
   ]
  },
  {
   "cell_type": "code",
   "execution_count": 99,
   "id": "7db58012",
   "metadata": {},
   "outputs": [
    {
     "data": {
      "text/plain": [
       "Contino                                 457\n",
       "Artadi                                  261\n",
       "La Rioja Alta                           254\n",
       "Sierra Cantabria                        237\n",
       "Matarromera                             232\n",
       "                                       ... \n",
       "Briego                                    1\n",
       "Guillem Carol - Cellers Carol Valles      1\n",
       "Particular                                1\n",
       "Bodegas Asenjo & Manso                    1\n",
       "Joan Simo                                 1\n",
       "Name: winery, Length: 480, dtype: int64"
      ]
     },
     "execution_count": 99,
     "metadata": {},
     "output_type": "execute_result"
    }
   ],
   "source": [
    "df.winery.value_counts()"
   ]
  },
  {
   "cell_type": "code",
   "execution_count": 100,
   "id": "1ecf7a47",
   "metadata": {},
   "outputs": [
    {
     "data": {
      "text/plain": [
       "Reserva                         467\n",
       "Gran Reserva                    458\n",
       "Rioja Reserva                   240\n",
       "El Viejo                        224\n",
       "Corimbo I                       223\n",
       "                               ... \n",
       "4 Varietales Coleccion Rioja      1\n",
       "Noble                             1\n",
       "Primordium                        1\n",
       "Finca Helena                      1\n",
       "Capricho Crianza                  1\n",
       "Name: wine, Length: 847, dtype: int64"
      ]
     },
     "execution_count": 100,
     "metadata": {},
     "output_type": "execute_result"
    }
   ],
   "source": [
    "df.wine.value_counts()"
   ]
  },
  {
   "cell_type": "code",
   "execution_count": 101,
   "id": "8e02f457",
   "metadata": {},
   "outputs": [
    {
     "data": {
      "text/plain": [
       "Rioja                              2440\n",
       "Ribera del Duero                   1413\n",
       "Priorato                            686\n",
       "Toro                                300\n",
       "Vino de Espana                      263\n",
       "                                   ... \n",
       "Ribera del Gallego-Cinco Villas       1\n",
       "Monterrei                             1\n",
       "Jerez Cream                           1\n",
       "Condado de Huelva                     1\n",
       "Abona                                 1\n",
       "Name: region, Length: 76, dtype: int64"
      ]
     },
     "execution_count": 101,
     "metadata": {},
     "output_type": "execute_result"
    }
   ],
   "source": [
    "df.region.value_counts()"
   ]
  },
  {
   "cell_type": "code",
   "execution_count": 102,
   "id": "34edb040",
   "metadata": {},
   "outputs": [
    {
     "data": {
      "text/plain": [
       "Rioja Red               2358\n",
       "Ribera Del Duero Red    1951\n",
       "Red                      864\n",
       "Priorat Red              674\n",
       "Toro Red                 296\n",
       "Tempranillo              291\n",
       "Sherry                   274\n",
       "Albarino                 252\n",
       "Mencia                   235\n",
       "Rioja White               92\n",
       "Pedro Ximenez             35\n",
       "Grenache                  35\n",
       "Cava                      33\n",
       "Verdejo                   27\n",
       "Monastrell                18\n",
       "Montsant Red              17\n",
       "Syrah                     15\n",
       "Chardonnay                13\n",
       "Cabernet Sauvignon        11\n",
       "Sparkling                  5\n",
       "Sauvignon Blanc            4\n",
       "Name: type, dtype: int64"
      ]
     },
     "execution_count": 102,
     "metadata": {},
     "output_type": "execute_result"
    }
   ],
   "source": [
    "df.type.value_counts()"
   ]
  },
  {
   "cell_type": "code",
   "execution_count": 103,
   "id": "2e19bb4c",
   "metadata": {},
   "outputs": [
    {
     "data": {
      "image/png": "[encoded data removed]",
      "text/plain": [
       "<Figure size 1008x720 with 1 Axes>"
      ]
     },
     "metadata": {
      "needs_background": "light"
     },
     "output_type": "display_data"
    }
   ],
   "source": [
    "data = df.type.value_counts(normalize=False)\n",
    "x = range( len( data))\n",
    "width = 1/1.5\n",
    "\n",
    "figure = plt.figure(figsize=(14, 10))\n",
    "\n",
    "axes = figure.add_subplot(1, 1, 1)\n",
    "axes.bar(x, data, width, align=\"center\", color=\"darkslategray\")\n",
    "axes.set_xticks([0, 1, 2, 3,4,5,6,7,8,9,10,11,12,13,14,15,16,17,18,19,20])\n",
    "axes.set_xticklabels(data.axes[0], rotation=90)\n",
    "axes.set_title( \"Distribution of Type\")\n",
    "axes.set_xlabel(\"Type\")\n",
    "axes.set_ylabel( \"Count\")\n",
    "axes.xaxis.grid(False)\n",
    "\n",
    "plt.show()\n",
    "plt.close()"
   ]
  },
  {
   "cell_type": "markdown",
   "id": "096a3fb5",
   "metadata": {},
   "source": [
    "## Pairwise Data Analysis"
   ]
  },
  {
   "cell_type": "code",
   "execution_count": 104,
   "id": "46ef589d",
   "metadata": {},
   "outputs": [
    {
     "data": {
      "text/plain": [
       "<AxesSubplot:>"
      ]
     },
     "execution_count": 104,
     "metadata": {},
     "output_type": "execute_result"
    },
    {
     "data": {
      "image/png": "[encoded data removed]",
      "text/plain": [
       "<Figure size 1008x720 with 2 Axes>"
      ]
     },
     "metadata": {
      "needs_background": "light"
     },
     "output_type": "display_data"
    }
   ],
   "source": [
    "plt.figure(figsize=[14,10])\n",
    "sns.heatmap(df.corr(),annot=True, cmap=\"Blues\")"
   ]
  },
  {
   "cell_type": "code",
   "execution_count": 105,
   "id": "1b0a78bf",
   "metadata": {},
   "outputs": [],
   "source": [
    "df.drop(['rating', 'numreviews'], axis=1,inplace=True)"
   ]
  },
  {
   "cell_type": "code",
   "execution_count": 106,
   "id": "dbbf2753",
   "metadata": {},
   "outputs": [
    {
     "data": {
      "text/plain": [
       "<AxesSubplot:>"
      ]
     },
     "execution_count": 106,
     "metadata": {},
     "output_type": "execute_result"
    },
    {
     "data": {
      "image/png": "[encoded data removed]",
      "text/plain": [
       "<Figure size 1008x720 with 2 Axes>"
      ]
     },
     "metadata": {
      "needs_background": "light"
     },
     "output_type": "display_data"
    }
   ],
   "source": [
    "plt.figure(figsize=[14,10])\n",
    "sns.heatmap(df.corr(),annot=True, cmap=\"Blues\")"
   ]
  },
  {
   "cell_type": "code",
   "execution_count": 107,
   "id": "fc178c09",
   "metadata": {},
   "outputs": [
    {
     "data": {
      "image/png": "[encoded data removed]",
      "text/plain": [
       "<Figure size 432x288 with 1 Axes>"
      ]
     },
     "metadata": {
      "needs_background": "light"
     },
     "output_type": "display_data"
    }
   ],
   "source": [
    "ax = sns.boxplot(x=\"acidity\", y=\"quality\", data=df, showfliers=False)  \n",
    "plt.show()"
   ]
  },
  {
   "cell_type": "code",
   "execution_count": 108,
   "id": "23895b67",
   "metadata": {},
   "outputs": [
    {
     "data": {
      "image/png": "[encoded data removed]",
      "text/plain": [
       "<Figure size 432x288 with 1 Axes>"
      ]
     },
     "metadata": {
      "needs_background": "light"
     },
     "output_type": "display_data"
    }
   ],
   "source": [
    "ax = sns.boxplot(x=\"body\", y=\"quality\", data=df, showfliers=False)  \n",
    "plt.show()"
   ]
  },
  {
   "cell_type": "code",
   "execution_count": 109,
   "id": "3e58d650",
   "metadata": {},
   "outputs": [
    {
     "data": {
      "text/html": [
       "<div>\n",
       "<style scoped>\n",
       "    .dataframe tbody tr th:only-of-type {\n",
       "        vertical-align: middle;\n",
       "    }\n",
       "\n",
       "    .dataframe tbody tr th {\n",
       "        vertical-align: top;\n",
       "    }\n",
       "\n",
       "    .dataframe thead th {\n",
       "        text-align: right;\n",
       "    }\n",
       "</style>\n",
       "<table border=\"1\" class=\"dataframe\">\n",
       "  <thead>\n",
       "    <tr style=\"text-align: right;\">\n",
       "      <th></th>\n",
       "      <th>year</th>\n",
       "      <th>price</th>\n",
       "      <th>body</th>\n",
       "      <th>acidity</th>\n",
       "      <th>winery</th>\n",
       "      <th>wine</th>\n",
       "      <th>region</th>\n",
       "      <th>type</th>\n",
       "      <th>quality</th>\n",
       "      <th>qualcat</th>\n",
       "    </tr>\n",
       "  </thead>\n",
       "  <tbody>\n",
       "    <tr>\n",
       "      <th>0</th>\n",
       "      <td>2013.0</td>\n",
       "      <td>995.00</td>\n",
       "      <td>5.0</td>\n",
       "      <td>3.0</td>\n",
       "      <td>Teso La Monja</td>\n",
       "      <td>Tinto</td>\n",
       "      <td>Toro</td>\n",
       "      <td>Toro Red</td>\n",
       "      <td>4.338633</td>\n",
       "      <td>2</td>\n",
       "    </tr>\n",
       "    <tr>\n",
       "      <th>1</th>\n",
       "      <td>2018.0</td>\n",
       "      <td>313.50</td>\n",
       "      <td>4.0</td>\n",
       "      <td>2.0</td>\n",
       "      <td>Artadi</td>\n",
       "      <td>Vina El Pison</td>\n",
       "      <td>Vino de Espana</td>\n",
       "      <td>Tempranillo</td>\n",
       "      <td>4.302545</td>\n",
       "      <td>2</td>\n",
       "    </tr>\n",
       "    <tr>\n",
       "      <th>2</th>\n",
       "      <td>2009.0</td>\n",
       "      <td>324.95</td>\n",
       "      <td>5.0</td>\n",
       "      <td>3.0</td>\n",
       "      <td>Vega Sicilia</td>\n",
       "      <td>Unico</td>\n",
       "      <td>Ribera del Duero</td>\n",
       "      <td>Ribera Del Duero Red</td>\n",
       "      <td>4.702827</td>\n",
       "      <td>5</td>\n",
       "    </tr>\n",
       "    <tr>\n",
       "      <th>3</th>\n",
       "      <td>1999.0</td>\n",
       "      <td>692.96</td>\n",
       "      <td>5.0</td>\n",
       "      <td>3.0</td>\n",
       "      <td>Vega Sicilia</td>\n",
       "      <td>Unico</td>\n",
       "      <td>Ribera del Duero</td>\n",
       "      <td>Ribera Del Duero Red</td>\n",
       "      <td>4.698744</td>\n",
       "      <td>5</td>\n",
       "    </tr>\n",
       "    <tr>\n",
       "      <th>4</th>\n",
       "      <td>1996.0</td>\n",
       "      <td>778.06</td>\n",
       "      <td>5.0</td>\n",
       "      <td>3.0</td>\n",
       "      <td>Vega Sicilia</td>\n",
       "      <td>Unico</td>\n",
       "      <td>Ribera del Duero</td>\n",
       "      <td>Ribera Del Duero Red</td>\n",
       "      <td>4.675129</td>\n",
       "      <td>5</td>\n",
       "    </tr>\n",
       "  </tbody>\n",
       "</table>\n",
       "</div>"
      ],
      "text/plain": [
       "     year   price  body  acidity         winery           wine  \\\n",
       "0  2013.0  995.00   5.0      3.0  Teso La Monja          Tinto   \n",
       "1  2018.0  313.50   4.0      2.0         Artadi  Vina El Pison   \n",
       "2  2009.0  324.95   5.0      3.0   Vega Sicilia          Unico   \n",
       "3  1999.0  692.96   5.0      3.0   Vega Sicilia          Unico   \n",
       "4  1996.0  778.06   5.0      3.0   Vega Sicilia          Unico   \n",
       "\n",
       "             region                  type   quality  qualcat  \n",
       "0              Toro              Toro Red  4.338633        2  \n",
       "1    Vino de Espana           Tempranillo  4.302545        2  \n",
       "2  Ribera del Duero  Ribera Del Duero Red  4.702827        5  \n",
       "3  Ribera del Duero  Ribera Del Duero Red  4.698744        5  \n",
       "4  Ribera del Duero  Ribera Del Duero Red  4.675129        5  "
      ]
     },
     "execution_count": 109,
     "metadata": {},
     "output_type": "execute_result"
    }
   ],
   "source": [
    "df.head()"
   ]
  },
  {
   "cell_type": "code",
   "execution_count": 110,
   "id": "94f5b153",
   "metadata": {},
   "outputs": [],
   "source": [
    "df2 = df.drop(['quality'], axis=1)"
   ]
  },
  {
   "cell_type": "code",
   "execution_count": 111,
   "id": "0ec1ab66",
   "metadata": {},
   "outputs": [
    {
     "data": {
      "text/html": [
       "<div>\n",
       "<style scoped>\n",
       "    .dataframe tbody tr th:only-of-type {\n",
       "        vertical-align: middle;\n",
       "    }\n",
       "\n",
       "    .dataframe tbody tr th {\n",
       "        vertical-align: top;\n",
       "    }\n",
       "\n",
       "    .dataframe thead th {\n",
       "        text-align: right;\n",
       "    }\n",
       "</style>\n",
       "<table border=\"1\" class=\"dataframe\">\n",
       "  <thead>\n",
       "    <tr style=\"text-align: right;\">\n",
       "      <th></th>\n",
       "      <th>year</th>\n",
       "      <th>price</th>\n",
       "      <th>body</th>\n",
       "      <th>acidity</th>\n",
       "      <th>winery</th>\n",
       "      <th>wine</th>\n",
       "      <th>region</th>\n",
       "      <th>type</th>\n",
       "      <th>qualcat</th>\n",
       "    </tr>\n",
       "  </thead>\n",
       "  <tbody>\n",
       "    <tr>\n",
       "      <th>0</th>\n",
       "      <td>2013.0</td>\n",
       "      <td>995.00</td>\n",
       "      <td>5.0</td>\n",
       "      <td>3.0</td>\n",
       "      <td>Teso La Monja</td>\n",
       "      <td>Tinto</td>\n",
       "      <td>Toro</td>\n",
       "      <td>Toro Red</td>\n",
       "      <td>2</td>\n",
       "    </tr>\n",
       "    <tr>\n",
       "      <th>1</th>\n",
       "      <td>2018.0</td>\n",
       "      <td>313.50</td>\n",
       "      <td>4.0</td>\n",
       "      <td>2.0</td>\n",
       "      <td>Artadi</td>\n",
       "      <td>Vina El Pison</td>\n",
       "      <td>Vino de Espana</td>\n",
       "      <td>Tempranillo</td>\n",
       "      <td>2</td>\n",
       "    </tr>\n",
       "    <tr>\n",
       "      <th>2</th>\n",
       "      <td>2009.0</td>\n",
       "      <td>324.95</td>\n",
       "      <td>5.0</td>\n",
       "      <td>3.0</td>\n",
       "      <td>Vega Sicilia</td>\n",
       "      <td>Unico</td>\n",
       "      <td>Ribera del Duero</td>\n",
       "      <td>Ribera Del Duero Red</td>\n",
       "      <td>5</td>\n",
       "    </tr>\n",
       "    <tr>\n",
       "      <th>3</th>\n",
       "      <td>1999.0</td>\n",
       "      <td>692.96</td>\n",
       "      <td>5.0</td>\n",
       "      <td>3.0</td>\n",
       "      <td>Vega Sicilia</td>\n",
       "      <td>Unico</td>\n",
       "      <td>Ribera del Duero</td>\n",
       "      <td>Ribera Del Duero Red</td>\n",
       "      <td>5</td>\n",
       "    </tr>\n",
       "    <tr>\n",
       "      <th>4</th>\n",
       "      <td>1996.0</td>\n",
       "      <td>778.06</td>\n",
       "      <td>5.0</td>\n",
       "      <td>3.0</td>\n",
       "      <td>Vega Sicilia</td>\n",
       "      <td>Unico</td>\n",
       "      <td>Ribera del Duero</td>\n",
       "      <td>Ribera Del Duero Red</td>\n",
       "      <td>5</td>\n",
       "    </tr>\n",
       "  </tbody>\n",
       "</table>\n",
       "</div>"
      ],
      "text/plain": [
       "     year   price  body  acidity         winery           wine  \\\n",
       "0  2013.0  995.00   5.0      3.0  Teso La Monja          Tinto   \n",
       "1  2018.0  313.50   4.0      2.0         Artadi  Vina El Pison   \n",
       "2  2009.0  324.95   5.0      3.0   Vega Sicilia          Unico   \n",
       "3  1999.0  692.96   5.0      3.0   Vega Sicilia          Unico   \n",
       "4  1996.0  778.06   5.0      3.0   Vega Sicilia          Unico   \n",
       "\n",
       "             region                  type  qualcat  \n",
       "0              Toro              Toro Red        2  \n",
       "1    Vino de Espana           Tempranillo        2  \n",
       "2  Ribera del Duero  Ribera Del Duero Red        5  \n",
       "3  Ribera del Duero  Ribera Del Duero Red        5  \n",
       "4  Ribera del Duero  Ribera Del Duero Red        5  "
      ]
     },
     "execution_count": 111,
     "metadata": {},
     "output_type": "execute_result"
    }
   ],
   "source": [
    "df2.head()"
   ]
  },
  {
   "cell_type": "code",
   "execution_count": 112,
   "id": "0cf7e8f2",
   "metadata": {},
   "outputs": [
    {
     "name": "stdout",
     "output_type": "stream",
     "text": [
      "<class 'pandas.core.frame.DataFrame'>\n",
      "RangeIndex: 7500 entries, 0 to 7499\n",
      "Data columns (total 9 columns):\n",
      " #   Column   Non-Null Count  Dtype  \n",
      "---  ------   --------------  -----  \n",
      " 0   year     7500 non-null   float64\n",
      " 1   price    7500 non-null   float64\n",
      " 2   body     7500 non-null   float64\n",
      " 3   acidity  7500 non-null   float64\n",
      " 4   winery   7500 non-null   object \n",
      " 5   wine     7500 non-null   object \n",
      " 6   region   7500 non-null   object \n",
      " 7   type     7500 non-null   object \n",
      " 8   qualcat  7500 non-null   int32  \n",
      "dtypes: float64(4), int32(1), object(4)\n",
      "memory usage: 498.2+ KB\n"
     ]
    }
   ],
   "source": [
    "df2.info()"
   ]
  },
  {
   "cell_type": "markdown",
   "id": "44c37fb2",
   "metadata": {},
   "source": [
    "## Classification Model"
   ]
  },
  {
   "cell_type": "code",
   "execution_count": 113,
   "id": "4425ec3e",
   "metadata": {},
   "outputs": [
    {
     "data": {
      "text/html": [
       "<div>\n",
       "<style scoped>\n",
       "    .dataframe tbody tr th:only-of-type {\n",
       "        vertical-align: middle;\n",
       "    }\n",
       "\n",
       "    .dataframe tbody tr th {\n",
       "        vertical-align: top;\n",
       "    }\n",
       "\n",
       "    .dataframe thead th {\n",
       "        text-align: right;\n",
       "    }\n",
       "</style>\n",
       "<table border=\"1\" class=\"dataframe\">\n",
       "  <thead>\n",
       "    <tr style=\"text-align: right;\">\n",
       "      <th></th>\n",
       "      <th>year</th>\n",
       "      <th>price</th>\n",
       "      <th>body</th>\n",
       "      <th>acidity</th>\n",
       "      <th>winery</th>\n",
       "      <th>wine</th>\n",
       "      <th>region</th>\n",
       "      <th>type</th>\n",
       "      <th>qualcat</th>\n",
       "    </tr>\n",
       "  </thead>\n",
       "  <tbody>\n",
       "    <tr>\n",
       "      <th>0</th>\n",
       "      <td>2013.0</td>\n",
       "      <td>995.00</td>\n",
       "      <td>5.0</td>\n",
       "      <td>3.0</td>\n",
       "      <td>422</td>\n",
       "      <td>759</td>\n",
       "      <td>69</td>\n",
       "      <td>19</td>\n",
       "      <td>2</td>\n",
       "    </tr>\n",
       "    <tr>\n",
       "      <th>1</th>\n",
       "      <td>2018.0</td>\n",
       "      <td>313.50</td>\n",
       "      <td>4.0</td>\n",
       "      <td>2.0</td>\n",
       "      <td>33</td>\n",
       "      <td>819</td>\n",
       "      <td>74</td>\n",
       "      <td>18</td>\n",
       "      <td>2</td>\n",
       "    </tr>\n",
       "    <tr>\n",
       "      <th>2</th>\n",
       "      <td>2009.0</td>\n",
       "      <td>324.95</td>\n",
       "      <td>5.0</td>\n",
       "      <td>3.0</td>\n",
       "      <td>447</td>\n",
       "      <td>778</td>\n",
       "      <td>57</td>\n",
       "      <td>11</td>\n",
       "      <td>5</td>\n",
       "    </tr>\n",
       "    <tr>\n",
       "      <th>3</th>\n",
       "      <td>1999.0</td>\n",
       "      <td>692.96</td>\n",
       "      <td>5.0</td>\n",
       "      <td>3.0</td>\n",
       "      <td>447</td>\n",
       "      <td>778</td>\n",
       "      <td>57</td>\n",
       "      <td>11</td>\n",
       "      <td>5</td>\n",
       "    </tr>\n",
       "    <tr>\n",
       "      <th>4</th>\n",
       "      <td>1996.0</td>\n",
       "      <td>778.06</td>\n",
       "      <td>5.0</td>\n",
       "      <td>3.0</td>\n",
       "      <td>447</td>\n",
       "      <td>778</td>\n",
       "      <td>57</td>\n",
       "      <td>11</td>\n",
       "      <td>5</td>\n",
       "    </tr>\n",
       "  </tbody>\n",
       "</table>\n",
       "</div>"
      ],
      "text/plain": [
       "     year   price  body  acidity  winery  wine  region  type  qualcat\n",
       "0  2013.0  995.00   5.0      3.0     422   759      69    19        2\n",
       "1  2018.0  313.50   4.0      2.0      33   819      74    18        2\n",
       "2  2009.0  324.95   5.0      3.0     447   778      57    11        5\n",
       "3  1999.0  692.96   5.0      3.0     447   778      57    11        5\n",
       "4  1996.0  778.06   5.0      3.0     447   778      57    11        5"
      ]
     },
     "execution_count": 113,
     "metadata": {},
     "output_type": "execute_result"
    }
   ],
   "source": [
    "for i in df2:\n",
    "    if df2[i].dtypes == 'object':\n",
    "        df2[i] = LabelEncoder().fit_transform(df2[i])\n",
    "df2.head()"
   ]
  },
  {
   "cell_type": "code",
   "execution_count": 114,
   "id": "9fd9d305",
   "metadata": {},
   "outputs": [],
   "source": [
    "x = df2.drop('qualcat', axis=1)\n",
    "y = df2['qualcat']"
   ]
  },
  {
   "cell_type": "code",
   "execution_count": 115,
   "id": "00fab458",
   "metadata": {},
   "outputs": [
    {
     "data": {
      "text/html": [
       "<div>\n",
       "<style scoped>\n",
       "    .dataframe tbody tr th:only-of-type {\n",
       "        vertical-align: middle;\n",
       "    }\n",
       "\n",
       "    .dataframe tbody tr th {\n",
       "        vertical-align: top;\n",
       "    }\n",
       "\n",
       "    .dataframe thead th {\n",
       "        text-align: right;\n",
       "    }\n",
       "</style>\n",
       "<table border=\"1\" class=\"dataframe\">\n",
       "  <thead>\n",
       "    <tr style=\"text-align: right;\">\n",
       "      <th></th>\n",
       "      <th>year</th>\n",
       "      <th>price</th>\n",
       "      <th>body</th>\n",
       "      <th>acidity</th>\n",
       "      <th>winery</th>\n",
       "      <th>wine</th>\n",
       "      <th>region</th>\n",
       "      <th>type</th>\n",
       "    </tr>\n",
       "  </thead>\n",
       "  <tbody>\n",
       "    <tr>\n",
       "      <th>0</th>\n",
       "      <td>-0.070613</td>\n",
       "      <td>6.218324</td>\n",
       "      <td>1.583713</td>\n",
       "      <td>0.196933</td>\n",
       "      <td>1.273008</td>\n",
       "      <td>1.257374</td>\n",
       "      <td>1.086370</td>\n",
       "      <td>2.234744</td>\n",
       "    </tr>\n",
       "    <tr>\n",
       "      <th>1</th>\n",
       "      <td>0.664124</td>\n",
       "      <td>1.685466</td>\n",
       "      <td>-0.257528</td>\n",
       "      <td>-4.172880</td>\n",
       "      <td>-1.753308</td>\n",
       "      <td>1.516556</td>\n",
       "      <td>1.375263</td>\n",
       "      <td>1.950667</td>\n",
       "    </tr>\n",
       "    <tr>\n",
       "      <th>2</th>\n",
       "      <td>-0.658403</td>\n",
       "      <td>1.761623</td>\n",
       "      <td>1.583713</td>\n",
       "      <td>0.196933</td>\n",
       "      <td>1.467501</td>\n",
       "      <td>1.339448</td>\n",
       "      <td>0.393026</td>\n",
       "      <td>-0.037877</td>\n",
       "    </tr>\n",
       "    <tr>\n",
       "      <th>3</th>\n",
       "      <td>-2.127877</td>\n",
       "      <td>4.209367</td>\n",
       "      <td>1.583713</td>\n",
       "      <td>0.196933</td>\n",
       "      <td>1.467501</td>\n",
       "      <td>1.339448</td>\n",
       "      <td>0.393026</td>\n",
       "      <td>-0.037877</td>\n",
       "    </tr>\n",
       "    <tr>\n",
       "      <th>4</th>\n",
       "      <td>-2.568719</td>\n",
       "      <td>4.775392</td>\n",
       "      <td>1.583713</td>\n",
       "      <td>0.196933</td>\n",
       "      <td>1.467501</td>\n",
       "      <td>1.339448</td>\n",
       "      <td>0.393026</td>\n",
       "      <td>-0.037877</td>\n",
       "    </tr>\n",
       "  </tbody>\n",
       "</table>\n",
       "</div>"
      ],
      "text/plain": [
       "       year     price      body   acidity    winery      wine    region  \\\n",
       "0 -0.070613  6.218324  1.583713  0.196933  1.273008  1.257374  1.086370   \n",
       "1  0.664124  1.685466 -0.257528 -4.172880 -1.753308  1.516556  1.375263   \n",
       "2 -0.658403  1.761623  1.583713  0.196933  1.467501  1.339448  0.393026   \n",
       "3 -2.127877  4.209367  1.583713  0.196933  1.467501  1.339448  0.393026   \n",
       "4 -2.568719  4.775392  1.583713  0.196933  1.467501  1.339448  0.393026   \n",
       "\n",
       "       type  \n",
       "0  2.234744  \n",
       "1  1.950667  \n",
       "2 -0.037877  \n",
       "3 -0.037877  \n",
       "4 -0.037877  "
      ]
     },
     "execution_count": 115,
     "metadata": {},
     "output_type": "execute_result"
    }
   ],
   "source": [
    "scaled_features = StandardScaler().fit_transform(x.values)\n",
    "x = pd.DataFrame(scaled_features, index=x.index, columns=x.columns)\n",
    "x.head()"
   ]
  },
  {
   "cell_type": "code",
   "execution_count": 116,
   "id": "e8099c0b",
   "metadata": {},
   "outputs": [],
   "source": [
    "x_train, x_test, y_train, y_test = train_test_split(x, y, train_size=0.8, random_state=101)"
   ]
  },
  {
   "cell_type": "code",
   "execution_count": 117,
   "id": "98b8510f",
   "metadata": {},
   "outputs": [
    {
     "data": {
      "text/html": [
       "<div>\n",
       "<style scoped>\n",
       "    .dataframe tbody tr th:only-of-type {\n",
       "        vertical-align: middle;\n",
       "    }\n",
       "\n",
       "    .dataframe tbody tr th {\n",
       "        vertical-align: top;\n",
       "    }\n",
       "\n",
       "    .dataframe thead th {\n",
       "        text-align: right;\n",
       "    }\n",
       "</style>\n",
       "<table border=\"1\" class=\"dataframe\">\n",
       "  <thead>\n",
       "    <tr style=\"text-align: right;\">\n",
       "      <th></th>\n",
       "      <th>year</th>\n",
       "      <th>price</th>\n",
       "      <th>body</th>\n",
       "      <th>acidity</th>\n",
       "      <th>winery</th>\n",
       "      <th>wine</th>\n",
       "      <th>region</th>\n",
       "      <th>type</th>\n",
       "    </tr>\n",
       "  </thead>\n",
       "  <tbody>\n",
       "    <tr>\n",
       "      <th>6262</th>\n",
       "      <td>0.958019</td>\n",
       "      <td>-0.320232</td>\n",
       "      <td>-0.257528</td>\n",
       "      <td>0.196933</td>\n",
       "      <td>0.977378</td>\n",
       "      <td>1.317850</td>\n",
       "      <td>0.335247</td>\n",
       "      <td>-0.037877</td>\n",
       "    </tr>\n",
       "    <tr>\n",
       "      <th>5193</th>\n",
       "      <td>-0.364508</td>\n",
       "      <td>0.012266</td>\n",
       "      <td>-0.257528</td>\n",
       "      <td>0.196933</td>\n",
       "      <td>-0.773062</td>\n",
       "      <td>0.851323</td>\n",
       "      <td>0.508583</td>\n",
       "      <td>0.246201</td>\n",
       "    </tr>\n",
       "    <tr>\n",
       "      <th>1998</th>\n",
       "      <td>-0.364508</td>\n",
       "      <td>-0.186874</td>\n",
       "      <td>1.583713</td>\n",
       "      <td>0.196933</td>\n",
       "      <td>-0.983114</td>\n",
       "      <td>-1.459711</td>\n",
       "      <td>1.433041</td>\n",
       "      <td>-1.458265</td>\n",
       "    </tr>\n",
       "    <tr>\n",
       "      <th>1630</th>\n",
       "      <td>0.517176</td>\n",
       "      <td>-0.186874</td>\n",
       "      <td>-0.257528</td>\n",
       "      <td>0.196933</td>\n",
       "      <td>-1.659951</td>\n",
       "      <td>-1.088217</td>\n",
       "      <td>0.508583</td>\n",
       "      <td>0.246201</td>\n",
       "    </tr>\n",
       "    <tr>\n",
       "      <th>1881</th>\n",
       "      <td>0.517176</td>\n",
       "      <td>-0.287441</td>\n",
       "      <td>1.583713</td>\n",
       "      <td>0.196933</td>\n",
       "      <td>0.448356</td>\n",
       "      <td>-1.148693</td>\n",
       "      <td>0.393026</td>\n",
       "      <td>-0.037877</td>\n",
       "    </tr>\n",
       "    <tr>\n",
       "      <th>...</th>\n",
       "      <td>...</td>\n",
       "      <td>...</td>\n",
       "      <td>...</td>\n",
       "      <td>...</td>\n",
       "      <td>...</td>\n",
       "      <td>...</td>\n",
       "      <td>...</td>\n",
       "      <td>...</td>\n",
       "    </tr>\n",
       "    <tr>\n",
       "      <th>599</th>\n",
       "      <td>0.811071</td>\n",
       "      <td>-0.200509</td>\n",
       "      <td>1.583713</td>\n",
       "      <td>0.196933</td>\n",
       "      <td>0.549493</td>\n",
       "      <td>-0.617371</td>\n",
       "      <td>-2.207013</td>\n",
       "      <td>-2.026421</td>\n",
       "    </tr>\n",
       "    <tr>\n",
       "      <th>5695</th>\n",
       "      <td>0.664124</td>\n",
       "      <td>-0.288239</td>\n",
       "      <td>-0.257528</td>\n",
       "      <td>0.196933</td>\n",
       "      <td>-0.780841</td>\n",
       "      <td>-0.120607</td>\n",
       "      <td>0.161911</td>\n",
       "      <td>-0.606032</td>\n",
       "    </tr>\n",
       "    <tr>\n",
       "      <th>1361</th>\n",
       "      <td>-0.217561</td>\n",
       "      <td>-0.240084</td>\n",
       "      <td>1.583713</td>\n",
       "      <td>0.196933</td>\n",
       "      <td>-1.473238</td>\n",
       "      <td>1.153702</td>\n",
       "      <td>0.393026</td>\n",
       "      <td>-0.037877</td>\n",
       "    </tr>\n",
       "    <tr>\n",
       "      <th>1547</th>\n",
       "      <td>0.517176</td>\n",
       "      <td>-0.239419</td>\n",
       "      <td>-0.257528</td>\n",
       "      <td>0.196933</td>\n",
       "      <td>0.059370</td>\n",
       "      <td>-1.433793</td>\n",
       "      <td>-1.918120</td>\n",
       "      <td>-2.594576</td>\n",
       "    </tr>\n",
       "    <tr>\n",
       "      <th>4959</th>\n",
       "      <td>-0.364508</td>\n",
       "      <td>-0.058171</td>\n",
       "      <td>1.583713</td>\n",
       "      <td>0.196933</td>\n",
       "      <td>1.514180</td>\n",
       "      <td>-0.543936</td>\n",
       "      <td>0.393026</td>\n",
       "      <td>-0.037877</td>\n",
       "    </tr>\n",
       "  </tbody>\n",
       "</table>\n",
       "<p>6000 rows × 8 columns</p>\n",
       "</div>"
      ],
      "text/plain": [
       "          year     price      body   acidity    winery      wine    region  \\\n",
       "6262  0.958019 -0.320232 -0.257528  0.196933  0.977378  1.317850  0.335247   \n",
       "5193 -0.364508  0.012266 -0.257528  0.196933 -0.773062  0.851323  0.508583   \n",
       "1998 -0.364508 -0.186874  1.583713  0.196933 -0.983114 -1.459711  1.433041   \n",
       "1630  0.517176 -0.186874 -0.257528  0.196933 -1.659951 -1.088217  0.508583   \n",
       "1881  0.517176 -0.287441  1.583713  0.196933  0.448356 -1.148693  0.393026   \n",
       "...        ...       ...       ...       ...       ...       ...       ...   \n",
       "599   0.811071 -0.200509  1.583713  0.196933  0.549493 -0.617371 -2.207013   \n",
       "5695  0.664124 -0.288239 -0.257528  0.196933 -0.780841 -0.120607  0.161911   \n",
       "1361 -0.217561 -0.240084  1.583713  0.196933 -1.473238  1.153702  0.393026   \n",
       "1547  0.517176 -0.239419 -0.257528  0.196933  0.059370 -1.433793 -1.918120   \n",
       "4959 -0.364508 -0.058171  1.583713  0.196933  1.514180 -0.543936  0.393026   \n",
       "\n",
       "          type  \n",
       "6262 -0.037877  \n",
       "5193  0.246201  \n",
       "1998 -1.458265  \n",
       "1630  0.246201  \n",
       "1881 -0.037877  \n",
       "...        ...  \n",
       "599  -2.026421  \n",
       "5695 -0.606032  \n",
       "1361 -0.037877  \n",
       "1547 -2.594576  \n",
       "4959 -0.037877  \n",
       "\n",
       "[6000 rows x 8 columns]"
      ]
     },
     "execution_count": 117,
     "metadata": {},
     "output_type": "execute_result"
    }
   ],
   "source": [
    "x_train"
   ]
  },
  {
   "cell_type": "code",
   "execution_count": 118,
   "id": "c492b1e5",
   "metadata": {},
   "outputs": [],
   "source": [
    "undersample = RandomUnderSampler(sampling_strategy = {1:1000})\n",
    "x_train, y_train = undersample.fit_resample(x_train, y_train)\n",
    "oversample = RandomOverSampler(sampling_strategy = {2:100,3:100, 4:100, 5:100})\n",
    "x_train, y_train = undersample.fit_resample(x_train, y_train)"
   ]
  },
  {
   "cell_type": "code",
   "execution_count": 119,
   "id": "81ea8320",
   "metadata": {},
   "outputs": [
    {
     "data": {
      "text/plain": [
       "0    2\n",
       "1    2\n",
       "2    5\n",
       "3    5\n",
       "4    5\n",
       "Name: qualcat, dtype: int32"
      ]
     },
     "execution_count": 119,
     "metadata": {},
     "output_type": "execute_result"
    }
   ],
   "source": [
    "y.head()"
   ]
  },
  {
   "cell_type": "code",
   "execution_count": 120,
   "id": "6da1099d",
   "metadata": {},
   "outputs": [],
   "source": [
    "clf1 = RandomForestClassifier(random_state=42)\n",
    "clf2 = SVC(probability=True, random_state=42)\n",
    "clf3 = LogisticRegression(random_state=42)\n",
    "clf4 = DecisionTreeClassifier(random_state=42)\n",
    "clf5 = KNeighborsClassifier()\n",
    "clf7 = GradientBoostingClassifier(random_state=42)\n",
    "clf8 = ExtraTreesClassifier()\n",
    "clf9 = BaggingClassifier()\n",
    "clf10= XGBClassifier()"
   ]
  },
  {
   "cell_type": "code",
   "execution_count": 121,
   "id": "45def974",
   "metadata": {},
   "outputs": [],
   "source": [
    "param1 = {}\n",
    "param1['classifier__n_estimators'] = [10, 50, 100, 250]\n",
    "param1['classifier__max_depth'] = [5, 10, 20]\n",
    "param1['classifier'] = [clf1]\n",
    "\n",
    "param2 = {}\n",
    "param2['classifier__C'] = [10**-2, 10**-1, 10**0, 10**1, 10**2]\n",
    "\n",
    "param2['classifier'] = [clf2]\n",
    "\n",
    "param3 = {}\n",
    "param3['classifier__C'] = [10**-2, 10**-1, 10**0, 10**1, 10**2]\n",
    "param3['classifier__penalty'] = ['none', 'l2']\n",
    "\n",
    "param3['classifier'] = [clf3]\n",
    "\n",
    "param4 = {}\n",
    "param4['classifier__max_depth'] = [5,10,25,None]\n",
    "\n",
    "param4['classifier'] = [clf4]\n",
    "\n",
    "param5 = {}\n",
    "param5['classifier__n_neighbors'] = [2,5,10,25,50]\n",
    "param5['classifier'] = [clf5]\n",
    "\n",
    "param7 = {}\n",
    "param7['classifier__n_estimators'] = [10, 50, 100, 250]\n",
    "param7['classifier__max_depth'] = [5, 10, 20]\n",
    "param7['classifier'] = [clf7]\n",
    "\n",
    "param8 = {}\n",
    "param8['classifier__n_estimators'] = [10, 50, 100, 250]\n",
    "param8['classifier__max_depth'] = [5, 10, 15, 20]\n",
    "param8['classifier'] = [clf8]\n",
    "\n",
    "param9 = {}\n",
    "param9['classifier__n_estimators'] = [10, 50, 100, 250]\n",
    "param9['classifier__max_samples'] = [0.05, 0.1, 0.2, 0.5]\n",
    "param9['classifier'] = [clf9]\n",
    "\n",
    "param10 = {}\n",
    "param10['classifier__n_estimators'] = [10, 50, 100, 250]\n",
    "param10['classifier__max_depth'] = range(3,10,2)\n",
    "param10['classifier'] = [clf10]"
   ]
  },
  {
   "cell_type": "code",
   "execution_count": 122,
   "id": "392c34ad",
   "metadata": {},
   "outputs": [],
   "source": [
    "pipeline = Pipeline([('classifier', clf1)])\n",
    "params = [param1, param2, param3, param4, param5, param7, param8, param9, param10]"
   ]
  },
  {
   "cell_type": "code",
   "execution_count": 123,
   "id": "b25f1ceb",
   "metadata": {
    "scrolled": false
   },
   "outputs": [],
   "source": [
    "gs = GridSearchCV(pipeline, params, cv=5, n_jobs=-1, error_score='raise').fit(x_train, y_train)"
   ]
  },
  {
   "cell_type": "code",
   "execution_count": 124,
   "id": "4a501113",
   "metadata": {},
   "outputs": [
    {
     "data": {
      "text/plain": [
       "{'classifier': RandomForestClassifier(max_depth=20, random_state=42),\n",
       " 'classifier__max_depth': 20,\n",
       " 'classifier__n_estimators': 100}"
      ]
     },
     "execution_count": 124,
     "metadata": {},
     "output_type": "execute_result"
    }
   ],
   "source": [
    "gs.best_params_"
   ]
  },
  {
   "cell_type": "code",
   "execution_count": 125,
   "id": "9f35a4ed",
   "metadata": {},
   "outputs": [
    {
     "data": {
      "text/plain": [
       "0.8454818454818456"
      ]
     },
     "execution_count": 125,
     "metadata": {},
     "output_type": "execute_result"
    }
   ],
   "source": [
    "gs.best_score_"
   ]
  },
  {
   "cell_type": "code",
   "execution_count": 126,
   "id": "4cde9433",
   "metadata": {},
   "outputs": [
    {
     "data": {
      "text/plain": [
       "ExtraTreesClassifier(max_depth=20, n_estimators=250)"
      ]
     },
     "execution_count": 126,
     "metadata": {},
     "output_type": "execute_result"
    }
   ],
   "source": [
    "model = ExtraTreesClassifier(n_estimators = 250, max_depth=20)\n",
    "model.fit(x_train, y_train)"
   ]
  },
  {
   "cell_type": "code",
   "execution_count": 127,
   "id": "980206da",
   "metadata": {},
   "outputs": [
    {
     "data": {
      "text/plain": [
       "0.8886666666666667"
      ]
     },
     "execution_count": 127,
     "metadata": {},
     "output_type": "execute_result"
    }
   ],
   "source": [
    "y_pred = model.predict(x_test)\n",
    "accuracy = accuracy_score(y_test, y_pred)\n",
    "accuracy"
   ]
  },
  {
   "cell_type": "code",
   "execution_count": 303,
   "id": "e6432c36",
   "metadata": {},
   "outputs": [
    {
     "data": {
      "text/plain": [
       "array([0.18692699, 0.27809146, 0.06768947, 0.01016362, 0.1603711 ,\n",
       "       0.1762625 , 0.0642756 , 0.05621927])"
      ]
     },
     "execution_count": 303,
     "metadata": {},
     "output_type": "execute_result"
    }
   ],
   "source": [
    "model.feature_importances_"
   ]
  },
  {
   "cell_type": "code",
   "execution_count": 304,
   "id": "54cde3ae",
   "metadata": {},
   "outputs": [],
   "source": [
    "featuredf = pd.DataFrame(columns=df2.columns)"
   ]
  },
  {
   "cell_type": "code",
   "execution_count": 305,
   "id": "bd22335e",
   "metadata": {},
   "outputs": [],
   "source": [
    "featuredf.drop('qualcat', axis=1,inplace=True)"
   ]
  },
  {
   "cell_type": "code",
   "execution_count": 306,
   "id": "f8bbe0a5",
   "metadata": {
    "scrolled": true
   },
   "outputs": [
    {
     "data": {
      "text/html": [
       "<div>\n",
       "<style scoped>\n",
       "    .dataframe tbody tr th:only-of-type {\n",
       "        vertical-align: middle;\n",
       "    }\n",
       "\n",
       "    .dataframe tbody tr th {\n",
       "        vertical-align: top;\n",
       "    }\n",
       "\n",
       "    .dataframe thead th {\n",
       "        text-align: right;\n",
       "    }\n",
       "</style>\n",
       "<table border=\"1\" class=\"dataframe\">\n",
       "  <thead>\n",
       "    <tr style=\"text-align: right;\">\n",
       "      <th></th>\n",
       "      <th>year</th>\n",
       "      <th>price</th>\n",
       "      <th>body</th>\n",
       "      <th>acidity</th>\n",
       "      <th>winery</th>\n",
       "      <th>wine</th>\n",
       "      <th>region</th>\n",
       "      <th>type</th>\n",
       "    </tr>\n",
       "  </thead>\n",
       "  <tbody>\n",
       "    <tr>\n",
       "      <th>0</th>\n",
       "      <td>0.186927</td>\n",
       "      <td>0.278091</td>\n",
       "      <td>0.067689</td>\n",
       "      <td>0.010164</td>\n",
       "      <td>0.160371</td>\n",
       "      <td>0.176262</td>\n",
       "      <td>0.064276</td>\n",
       "      <td>0.056219</td>\n",
       "    </tr>\n",
       "  </tbody>\n",
       "</table>\n",
       "</div>"
      ],
      "text/plain": [
       "       year     price      body   acidity    winery      wine    region  \\\n",
       "0  0.186927  0.278091  0.067689  0.010164  0.160371  0.176262  0.064276   \n",
       "\n",
       "       type  \n",
       "0  0.056219  "
      ]
     },
     "execution_count": 306,
     "metadata": {},
     "output_type": "execute_result"
    }
   ],
   "source": [
    "featuredf.append(pd.DataFrame(model.feature_importances_.reshape(1,-1), columns=list(featuredf)), ignore_index=True)"
   ]
  },
  {
   "cell_type": "code",
   "execution_count": 307,
   "id": "bf96f829",
   "metadata": {
    "scrolled": true
   },
   "outputs": [
    {
     "data": {
      "image/png": "[encoded data removed]",
      "text/plain": [
       "<Figure size 432x288 with 1 Axes>"
      ]
     },
     "metadata": {
      "needs_background": "light"
     },
     "output_type": "display_data"
    }
   ],
   "source": [
    "plt.bar(featuredf.columns, model.feature_importances_)\n",
    "plt.xlabel('Features')\n",
    "plt.ylabel('Feature Importances')\n",
    "plt.title('Feature Importances on Quality')\n",
    "plt.show()"
   ]
  },
  {
   "cell_type": "code",
   "execution_count": 490,
   "id": "8daf832a",
   "metadata": {},
   "outputs": [
    {
     "data": {
      "text/plain": [
       "'year + price + winery + wine'"
      ]
     },
     "execution_count": 490,
     "metadata": {},
     "output_type": "execute_result"
    }
   ],
   "source": [
    "classfeatures = featuredf.drop(columns=['body','acidity','region','type'])\n",
    "classfeatures = \" + \".join(classfeatures.iloc[:,[0,1,2,3]])\n",
    "classfeatures"
   ]
  },
  {
   "cell_type": "code",
   "execution_count": 395,
   "id": "e1272aba",
   "metadata": {},
   "outputs": [
    {
     "data": {
      "text/html": [
       "<div>\n",
       "<style scoped>\n",
       "    .dataframe tbody tr th:only-of-type {\n",
       "        vertical-align: middle;\n",
       "    }\n",
       "\n",
       "    .dataframe tbody tr th {\n",
       "        vertical-align: top;\n",
       "    }\n",
       "\n",
       "    .dataframe thead th {\n",
       "        text-align: right;\n",
       "    }\n",
       "</style>\n",
       "<table border=\"1\" class=\"dataframe\">\n",
       "  <thead>\n",
       "    <tr style=\"text-align: right;\">\n",
       "      <th></th>\n",
       "      <th>count</th>\n",
       "      <th>mean</th>\n",
       "      <th>std</th>\n",
       "      <th>min</th>\n",
       "      <th>25%</th>\n",
       "      <th>50%</th>\n",
       "      <th>75%</th>\n",
       "      <th>max</th>\n",
       "    </tr>\n",
       "    <tr>\n",
       "      <th>qualcat</th>\n",
       "      <th></th>\n",
       "      <th></th>\n",
       "      <th></th>\n",
       "      <th></th>\n",
       "      <th></th>\n",
       "      <th></th>\n",
       "      <th></th>\n",
       "      <th></th>\n",
       "    </tr>\n",
       "  </thead>\n",
       "  <tbody>\n",
       "    <tr>\n",
       "      <th>1</th>\n",
       "      <td>6897.0</td>\n",
       "      <td>2013.871103</td>\n",
       "      <td>5.841343</td>\n",
       "      <td>1922.0</td>\n",
       "      <td>2011.00</td>\n",
       "      <td>2015.0</td>\n",
       "      <td>2017.0</td>\n",
       "      <td>2021.0</td>\n",
       "    </tr>\n",
       "    <tr>\n",
       "      <th>2</th>\n",
       "      <td>447.0</td>\n",
       "      <td>2009.241611</td>\n",
       "      <td>13.103581</td>\n",
       "      <td>1910.0</td>\n",
       "      <td>2007.50</td>\n",
       "      <td>2014.0</td>\n",
       "      <td>2016.0</td>\n",
       "      <td>2020.0</td>\n",
       "    </tr>\n",
       "    <tr>\n",
       "      <th>3</th>\n",
       "      <td>102.0</td>\n",
       "      <td>2009.666667</td>\n",
       "      <td>11.335857</td>\n",
       "      <td>1962.0</td>\n",
       "      <td>2008.25</td>\n",
       "      <td>2014.0</td>\n",
       "      <td>2016.0</td>\n",
       "      <td>2019.0</td>\n",
       "    </tr>\n",
       "    <tr>\n",
       "      <th>4</th>\n",
       "      <td>34.0</td>\n",
       "      <td>2005.852941</td>\n",
       "      <td>15.630453</td>\n",
       "      <td>1946.0</td>\n",
       "      <td>2000.50</td>\n",
       "      <td>2011.5</td>\n",
       "      <td>2016.0</td>\n",
       "      <td>2019.0</td>\n",
       "    </tr>\n",
       "    <tr>\n",
       "      <th>5</th>\n",
       "      <td>20.0</td>\n",
       "      <td>2005.950000</td>\n",
       "      <td>6.176995</td>\n",
       "      <td>1995.0</td>\n",
       "      <td>2002.25</td>\n",
       "      <td>2006.0</td>\n",
       "      <td>2010.0</td>\n",
       "      <td>2016.0</td>\n",
       "    </tr>\n",
       "  </tbody>\n",
       "</table>\n",
       "</div>"
      ],
      "text/plain": [
       "          count         mean        std     min      25%     50%     75%  \\\n",
       "qualcat                                                                    \n",
       "1        6897.0  2013.871103   5.841343  1922.0  2011.00  2015.0  2017.0   \n",
       "2         447.0  2009.241611  13.103581  1910.0  2007.50  2014.0  2016.0   \n",
       "3         102.0  2009.666667  11.335857  1962.0  2008.25  2014.0  2016.0   \n",
       "4          34.0  2005.852941  15.630453  1946.0  2000.50  2011.5  2016.0   \n",
       "5          20.0  2005.950000   6.176995  1995.0  2002.25  2006.0  2010.0   \n",
       "\n",
       "            max  \n",
       "qualcat          \n",
       "1        2021.0  \n",
       "2        2020.0  \n",
       "3        2019.0  \n",
       "4        2019.0  \n",
       "5        2016.0  "
      ]
     },
     "execution_count": 395,
     "metadata": {},
     "output_type": "execute_result"
    }
   ],
   "source": [
    "grouped = df.groupby( \"qualcat\")\n",
    "grouped_y = grouped[\"year\"].describe()\n",
    "grouped_y"
   ]
  },
  {
   "cell_type": "code",
   "execution_count": 410,
   "id": "24c682aa",
   "metadata": {},
   "outputs": [
    {
     "data": {
      "image/png": "[encoded data removed]",
      "text/plain": [
       "<Figure size 432x288 with 1 Axes>"
      ]
     },
     "metadata": {
      "needs_background": "light"
     },
     "output_type": "display_data"
    }
   ],
   "source": [
    "ax = sns.boxplot(x=\"qualcat\", y=\"year\", data=df, showfliers = False)\n",
    "plt.show()"
   ]
  },
  {
   "cell_type": "code",
   "execution_count": 412,
   "id": "87a71c6c",
   "metadata": {},
   "outputs": [
    {
     "data": {
      "text/html": [
       "<div>\n",
       "<style scoped>\n",
       "    .dataframe tbody tr th:only-of-type {\n",
       "        vertical-align: middle;\n",
       "    }\n",
       "\n",
       "    .dataframe tbody tr th {\n",
       "        vertical-align: top;\n",
       "    }\n",
       "\n",
       "    .dataframe thead th {\n",
       "        text-align: right;\n",
       "    }\n",
       "</style>\n",
       "<table border=\"1\" class=\"dataframe\">\n",
       "  <thead>\n",
       "    <tr style=\"text-align: right;\">\n",
       "      <th></th>\n",
       "      <th>count</th>\n",
       "      <th>mean</th>\n",
       "      <th>std</th>\n",
       "      <th>min</th>\n",
       "      <th>25%</th>\n",
       "      <th>50%</th>\n",
       "      <th>75%</th>\n",
       "      <th>max</th>\n",
       "    </tr>\n",
       "    <tr>\n",
       "      <th>qualcat</th>\n",
       "      <th></th>\n",
       "      <th></th>\n",
       "      <th></th>\n",
       "      <th></th>\n",
       "      <th></th>\n",
       "      <th></th>\n",
       "      <th></th>\n",
       "      <th></th>\n",
       "    </tr>\n",
       "  </thead>\n",
       "  <tbody>\n",
       "    <tr>\n",
       "      <th>1</th>\n",
       "      <td>6897.0</td>\n",
       "      <td>42.589543</td>\n",
       "      <td>84.027727</td>\n",
       "      <td>4.99</td>\n",
       "      <td>18.9000</td>\n",
       "      <td>27.900000</td>\n",
       "      <td>48.96</td>\n",
       "      <td>3119.08</td>\n",
       "    </tr>\n",
       "    <tr>\n",
       "      <th>2</th>\n",
       "      <td>447.0</td>\n",
       "      <td>231.189759</td>\n",
       "      <td>390.685164</td>\n",
       "      <td>19.60</td>\n",
       "      <td>47.9500</td>\n",
       "      <td>80.950000</td>\n",
       "      <td>195.00</td>\n",
       "      <td>2884.04</td>\n",
       "    </tr>\n",
       "    <tr>\n",
       "      <th>3</th>\n",
       "      <td>102.0</td>\n",
       "      <td>331.525626</td>\n",
       "      <td>463.674091</td>\n",
       "      <td>29.80</td>\n",
       "      <td>64.2500</td>\n",
       "      <td>123.468413</td>\n",
       "      <td>286.70</td>\n",
       "      <td>2087.25</td>\n",
       "    </tr>\n",
       "    <tr>\n",
       "      <th>4</th>\n",
       "      <td>34.0</td>\n",
       "      <td>349.114940</td>\n",
       "      <td>272.435035</td>\n",
       "      <td>75.10</td>\n",
       "      <td>131.2125</td>\n",
       "      <td>237.100000</td>\n",
       "      <td>495.72</td>\n",
       "      <td>925.00</td>\n",
       "    </tr>\n",
       "    <tr>\n",
       "      <th>5</th>\n",
       "      <td>20.0</td>\n",
       "      <td>397.562000</td>\n",
       "      <td>201.366297</td>\n",
       "      <td>107.57</td>\n",
       "      <td>238.1250</td>\n",
       "      <td>355.625000</td>\n",
       "      <td>506.30</td>\n",
       "      <td>810.89</td>\n",
       "    </tr>\n",
       "  </tbody>\n",
       "</table>\n",
       "</div>"
      ],
      "text/plain": [
       "          count        mean         std     min       25%         50%     75%  \\\n",
       "qualcat                                                                         \n",
       "1        6897.0   42.589543   84.027727    4.99   18.9000   27.900000   48.96   \n",
       "2         447.0  231.189759  390.685164   19.60   47.9500   80.950000  195.00   \n",
       "3         102.0  331.525626  463.674091   29.80   64.2500  123.468413  286.70   \n",
       "4          34.0  349.114940  272.435035   75.10  131.2125  237.100000  495.72   \n",
       "5          20.0  397.562000  201.366297  107.57  238.1250  355.625000  506.30   \n",
       "\n",
       "             max  \n",
       "qualcat           \n",
       "1        3119.08  \n",
       "2        2884.04  \n",
       "3        2087.25  \n",
       "4         925.00  \n",
       "5         810.89  "
      ]
     },
     "execution_count": 412,
     "metadata": {},
     "output_type": "execute_result"
    }
   ],
   "source": [
    "grouped = df.groupby( \"qualcat\")\n",
    "grouped_y = grouped[\"price\"].describe()\n",
    "grouped_y"
   ]
  },
  {
   "cell_type": "code",
   "execution_count": 411,
   "id": "44fad54f",
   "metadata": {},
   "outputs": [
    {
     "data": {
      "image/png": "[encoded data removed]",
      "text/plain": [
       "<Figure size 432x288 with 1 Axes>"
      ]
     },
     "metadata": {
      "needs_background": "light"
     },
     "output_type": "display_data"
    }
   ],
   "source": [
    "ax = sns.boxplot(x=\"qualcat\", y=\"price\", data=df, showfliers = False)\n",
    "plt.show()"
   ]
  },
  {
   "cell_type": "code",
   "execution_count": 427,
   "id": "9cd88502",
   "metadata": {},
   "outputs": [
    {
     "data": {
      "text/html": [
       "<div>\n",
       "<style scoped>\n",
       "    .dataframe tbody tr th:only-of-type {\n",
       "        vertical-align: middle;\n",
       "    }\n",
       "\n",
       "    .dataframe tbody tr th {\n",
       "        vertical-align: top;\n",
       "    }\n",
       "\n",
       "    .dataframe thead th {\n",
       "        text-align: right;\n",
       "    }\n",
       "</style>\n",
       "<table border=\"1\" class=\"dataframe\">\n",
       "  <thead>\n",
       "    <tr style=\"text-align: right;\">\n",
       "      <th></th>\n",
       "      <th>count</th>\n",
       "      <th>mean</th>\n",
       "      <th>std</th>\n",
       "      <th>min</th>\n",
       "      <th>25%</th>\n",
       "      <th>50%</th>\n",
       "      <th>75%</th>\n",
       "      <th>max</th>\n",
       "    </tr>\n",
       "    <tr>\n",
       "      <th>winery</th>\n",
       "      <th></th>\n",
       "      <th></th>\n",
       "      <th></th>\n",
       "      <th></th>\n",
       "      <th></th>\n",
       "      <th></th>\n",
       "      <th></th>\n",
       "      <th></th>\n",
       "    </tr>\n",
       "  </thead>\n",
       "  <tbody>\n",
       "    <tr>\n",
       "      <th>Pago de Carraovejas</th>\n",
       "      <td>11.0</td>\n",
       "      <td>3.181818</td>\n",
       "      <td>0.873863</td>\n",
       "      <td>1.0</td>\n",
       "      <td>3.00</td>\n",
       "      <td>3.0</td>\n",
       "      <td>4.00</td>\n",
       "      <td>4.0</td>\n",
       "    </tr>\n",
       "    <tr>\n",
       "      <th>Vega Sicilia</th>\n",
       "      <td>97.0</td>\n",
       "      <td>3.144330</td>\n",
       "      <td>1.290911</td>\n",
       "      <td>1.0</td>\n",
       "      <td>2.00</td>\n",
       "      <td>3.0</td>\n",
       "      <td>4.00</td>\n",
       "      <td>5.0</td>\n",
       "    </tr>\n",
       "    <tr>\n",
       "      <th>Bodegas El Nido</th>\n",
       "      <td>13.0</td>\n",
       "      <td>2.846154</td>\n",
       "      <td>0.554700</td>\n",
       "      <td>2.0</td>\n",
       "      <td>3.00</td>\n",
       "      <td>3.0</td>\n",
       "      <td>3.00</td>\n",
       "      <td>4.0</td>\n",
       "    </tr>\n",
       "    <tr>\n",
       "      <th>Aalto</th>\n",
       "      <td>12.0</td>\n",
       "      <td>2.583333</td>\n",
       "      <td>1.164500</td>\n",
       "      <td>1.0</td>\n",
       "      <td>1.75</td>\n",
       "      <td>3.0</td>\n",
       "      <td>3.25</td>\n",
       "      <td>4.0</td>\n",
       "    </tr>\n",
       "    <tr>\n",
       "      <th>Quinta de la Quietud</th>\n",
       "      <td>2.0</td>\n",
       "      <td>2.500000</td>\n",
       "      <td>0.707107</td>\n",
       "      <td>2.0</td>\n",
       "      <td>2.25</td>\n",
       "      <td>2.5</td>\n",
       "      <td>2.75</td>\n",
       "      <td>3.0</td>\n",
       "    </tr>\n",
       "  </tbody>\n",
       "</table>\n",
       "</div>"
      ],
      "text/plain": [
       "                      count      mean       std  min   25%  50%   75%  max\n",
       "winery                                                                    \n",
       "Pago de Carraovejas    11.0  3.181818  0.873863  1.0  3.00  3.0  4.00  4.0\n",
       "Vega Sicilia           97.0  3.144330  1.290911  1.0  2.00  3.0  4.00  5.0\n",
       "Bodegas El Nido        13.0  2.846154  0.554700  2.0  3.00  3.0  3.00  4.0\n",
       "Aalto                  12.0  2.583333  1.164500  1.0  1.75  3.0  3.25  4.0\n",
       "Quinta de la Quietud    2.0  2.500000  0.707107  2.0  2.25  2.5  2.75  3.0"
      ]
     },
     "execution_count": 427,
     "metadata": {},
     "output_type": "execute_result"
    }
   ],
   "source": [
    "grouped = df.groupby( \"winery\")\n",
    "grouped_y = grouped[\"qualcat\"].describe()\n",
    "winerydata = grouped_y.sort_values(by=['mean'],ascending=False).head()\n",
    "winerydata"
   ]
  },
  {
   "cell_type": "code",
   "execution_count": 447,
   "id": "5686b141",
   "metadata": {},
   "outputs": [
    {
     "data": {
      "text/plain": [
       "<AxesSubplot:xlabel='winery'>"
      ]
     },
     "execution_count": 447,
     "metadata": {},
     "output_type": "execute_result"
    },
    {
     "data": {
      "image/png": "[encoded data removed]",
      "text/plain": [
       "<Figure size 432x288 with 1 Axes>"
      ]
     },
     "metadata": {
      "needs_background": "light"
     },
     "output_type": "display_data"
    }
   ],
   "source": [
    "winerydata['mean'].plot(kind = 'bar', )"
   ]
  },
  {
   "cell_type": "code",
   "execution_count": 449,
   "id": "4e437ff5",
   "metadata": {},
   "outputs": [
    {
     "data": {
      "text/html": [
       "<div>\n",
       "<style scoped>\n",
       "    .dataframe tbody tr th:only-of-type {\n",
       "        vertical-align: middle;\n",
       "    }\n",
       "\n",
       "    .dataframe tbody tr th {\n",
       "        vertical-align: top;\n",
       "    }\n",
       "\n",
       "    .dataframe thead th {\n",
       "        text-align: right;\n",
       "    }\n",
       "</style>\n",
       "<table border=\"1\" class=\"dataframe\">\n",
       "  <thead>\n",
       "    <tr style=\"text-align: right;\">\n",
       "      <th></th>\n",
       "      <th>count</th>\n",
       "      <th>mean</th>\n",
       "      <th>std</th>\n",
       "      <th>min</th>\n",
       "      <th>25%</th>\n",
       "      <th>50%</th>\n",
       "      <th>75%</th>\n",
       "      <th>max</th>\n",
       "    </tr>\n",
       "    <tr>\n",
       "      <th>wine</th>\n",
       "      <th></th>\n",
       "      <th></th>\n",
       "      <th></th>\n",
       "      <th></th>\n",
       "      <th></th>\n",
       "      <th></th>\n",
       "      <th></th>\n",
       "      <th></th>\n",
       "    </tr>\n",
       "  </thead>\n",
       "  <tbody>\n",
       "    <tr>\n",
       "      <th>El Anejon</th>\n",
       "      <td>2.0</td>\n",
       "      <td>4.000000</td>\n",
       "      <td>0.000000</td>\n",
       "      <td>4.0</td>\n",
       "      <td>4.0</td>\n",
       "      <td>4.0</td>\n",
       "      <td>4.0</td>\n",
       "      <td>4.0</td>\n",
       "    </tr>\n",
       "    <tr>\n",
       "      <th>Cuesta de Las Liebres</th>\n",
       "      <td>3.0</td>\n",
       "      <td>3.666667</td>\n",
       "      <td>0.577350</td>\n",
       "      <td>3.0</td>\n",
       "      <td>3.5</td>\n",
       "      <td>4.0</td>\n",
       "      <td>4.0</td>\n",
       "      <td>4.0</td>\n",
       "    </tr>\n",
       "    <tr>\n",
       "      <th>PS (Pagos Seleccionados) Ribera del Duero</th>\n",
       "      <td>6.0</td>\n",
       "      <td>3.500000</td>\n",
       "      <td>0.547723</td>\n",
       "      <td>3.0</td>\n",
       "      <td>3.0</td>\n",
       "      <td>3.5</td>\n",
       "      <td>4.0</td>\n",
       "      <td>4.0</td>\n",
       "    </tr>\n",
       "    <tr>\n",
       "      <th>Unico</th>\n",
       "      <td>41.0</td>\n",
       "      <td>3.463415</td>\n",
       "      <td>1.324718</td>\n",
       "      <td>1.0</td>\n",
       "      <td>2.0</td>\n",
       "      <td>4.0</td>\n",
       "      <td>5.0</td>\n",
       "      <td>5.0</td>\n",
       "    </tr>\n",
       "    <tr>\n",
       "      <th>Valbuena 5o</th>\n",
       "      <td>32.0</td>\n",
       "      <td>3.031250</td>\n",
       "      <td>1.379209</td>\n",
       "      <td>1.0</td>\n",
       "      <td>2.0</td>\n",
       "      <td>3.0</td>\n",
       "      <td>4.0</td>\n",
       "      <td>5.0</td>\n",
       "    </tr>\n",
       "  </tbody>\n",
       "</table>\n",
       "</div>"
      ],
      "text/plain": [
       "                                           count      mean       std  min  \\\n",
       "wine                                                                        \n",
       "El Anejon                                    2.0  4.000000  0.000000  4.0   \n",
       "Cuesta de Las Liebres                        3.0  3.666667  0.577350  3.0   \n",
       "PS (Pagos Seleccionados) Ribera del Duero    6.0  3.500000  0.547723  3.0   \n",
       "Unico                                       41.0  3.463415  1.324718  1.0   \n",
       "Valbuena 5o                                 32.0  3.031250  1.379209  1.0   \n",
       "\n",
       "                                           25%  50%  75%  max  \n",
       "wine                                                           \n",
       "El Anejon                                  4.0  4.0  4.0  4.0  \n",
       "Cuesta de Las Liebres                      3.5  4.0  4.0  4.0  \n",
       "PS (Pagos Seleccionados) Ribera del Duero  3.0  3.5  4.0  4.0  \n",
       "Unico                                      2.0  4.0  5.0  5.0  \n",
       "Valbuena 5o                                2.0  3.0  4.0  5.0  "
      ]
     },
     "execution_count": 449,
     "metadata": {},
     "output_type": "execute_result"
    }
   ],
   "source": [
    "grouped = df.groupby( \"wine\")\n",
    "grouped_y = grouped[\"qualcat\"].describe()\n",
    "winedata = grouped_y.sort_values(by=['mean'],ascending=False).head()\n",
    "winedata"
   ]
  },
  {
   "cell_type": "code",
   "execution_count": 502,
   "id": "9cdaa04e",
   "metadata": {},
   "outputs": [
    {
     "data": {
      "text/html": [
       "<div>\n",
       "<style scoped>\n",
       "    .dataframe tbody tr th:only-of-type {\n",
       "        vertical-align: middle;\n",
       "    }\n",
       "\n",
       "    .dataframe tbody tr th {\n",
       "        vertical-align: top;\n",
       "    }\n",
       "\n",
       "    .dataframe thead th {\n",
       "        text-align: right;\n",
       "    }\n",
       "</style>\n",
       "<table border=\"1\" class=\"dataframe\">\n",
       "  <thead>\n",
       "    <tr style=\"text-align: right;\">\n",
       "      <th>wine</th>\n",
       "      <th>El Anejon</th>\n",
       "      <th>Cuesta de Las Liebres</th>\n",
       "      <th>PS (Pagos Seleccionados) Ribera del Duero</th>\n",
       "      <th>Unico</th>\n",
       "      <th>Valbuena 5o</th>\n",
       "    </tr>\n",
       "  </thead>\n",
       "  <tbody>\n",
       "    <tr>\n",
       "      <th>count</th>\n",
       "      <td>2.0</td>\n",
       "      <td>3.0</td>\n",
       "      <td>6.0</td>\n",
       "      <td>41.0</td>\n",
       "      <td>32.0</td>\n",
       "    </tr>\n",
       "  </tbody>\n",
       "</table>\n",
       "</div>"
      ],
      "text/plain": [
       "wine   El Anejon  Cuesta de Las Liebres  \\\n",
       "count        2.0                    3.0   \n",
       "\n",
       "wine   PS (Pagos Seleccionados) Ribera del Duero  Unico  Valbuena 5o  \n",
       "count                                        6.0   41.0         32.0  "
      ]
     },
     "execution_count": 502,
     "metadata": {},
     "output_type": "execute_result"
    }
   ],
   "source": [
    "winedata1 = winedata.iloc[[0,1,2,3,4],[0]].T\n",
    "winedata1"
   ]
  },
  {
   "cell_type": "code",
   "execution_count": 450,
   "id": "195bb12a",
   "metadata": {},
   "outputs": [
    {
     "data": {
      "text/plain": [
       "<AxesSubplot:xlabel='wine'>"
      ]
     },
     "execution_count": 450,
     "metadata": {},
     "output_type": "execute_result"
    },
    {
     "data": {
      "image/png": "[encoded data removed]",
      "text/plain": [
       "<Figure size 432x288 with 1 Axes>"
      ]
     },
     "metadata": {
      "needs_background": "light"
     },
     "output_type": "display_data"
    }
   ],
   "source": [
    "winedata['mean'].plot(kind = 'bar')"
   ]
  },
  {
   "cell_type": "markdown",
   "id": "5ff3901e",
   "metadata": {},
   "source": [
    "# Regression Model"
   ]
  },
  {
   "cell_type": "code",
   "execution_count": 128,
   "id": "09e7428e",
   "metadata": {},
   "outputs": [
    {
     "data": {
      "text/html": [
       "<div>\n",
       "<style scoped>\n",
       "    .dataframe tbody tr th:only-of-type {\n",
       "        vertical-align: middle;\n",
       "    }\n",
       "\n",
       "    .dataframe tbody tr th {\n",
       "        vertical-align: top;\n",
       "    }\n",
       "\n",
       "    .dataframe thead th {\n",
       "        text-align: right;\n",
       "    }\n",
       "</style>\n",
       "<table border=\"1\" class=\"dataframe\">\n",
       "  <thead>\n",
       "    <tr style=\"text-align: right;\">\n",
       "      <th></th>\n",
       "      <th>year</th>\n",
       "      <th>price</th>\n",
       "      <th>body</th>\n",
       "      <th>acidity</th>\n",
       "      <th>winery</th>\n",
       "      <th>wine</th>\n",
       "      <th>region</th>\n",
       "      <th>type</th>\n",
       "      <th>quality</th>\n",
       "    </tr>\n",
       "  </thead>\n",
       "  <tbody>\n",
       "    <tr>\n",
       "      <th>0</th>\n",
       "      <td>2013.0</td>\n",
       "      <td>995.00</td>\n",
       "      <td>5.0</td>\n",
       "      <td>3.0</td>\n",
       "      <td>Teso La Monja</td>\n",
       "      <td>Tinto</td>\n",
       "      <td>Toro</td>\n",
       "      <td>Toro Red</td>\n",
       "      <td>4.338633</td>\n",
       "    </tr>\n",
       "    <tr>\n",
       "      <th>1</th>\n",
       "      <td>2018.0</td>\n",
       "      <td>313.50</td>\n",
       "      <td>4.0</td>\n",
       "      <td>2.0</td>\n",
       "      <td>Artadi</td>\n",
       "      <td>Vina El Pison</td>\n",
       "      <td>Vino de Espana</td>\n",
       "      <td>Tempranillo</td>\n",
       "      <td>4.302545</td>\n",
       "    </tr>\n",
       "    <tr>\n",
       "      <th>2</th>\n",
       "      <td>2009.0</td>\n",
       "      <td>324.95</td>\n",
       "      <td>5.0</td>\n",
       "      <td>3.0</td>\n",
       "      <td>Vega Sicilia</td>\n",
       "      <td>Unico</td>\n",
       "      <td>Ribera del Duero</td>\n",
       "      <td>Ribera Del Duero Red</td>\n",
       "      <td>4.702827</td>\n",
       "    </tr>\n",
       "    <tr>\n",
       "      <th>3</th>\n",
       "      <td>1999.0</td>\n",
       "      <td>692.96</td>\n",
       "      <td>5.0</td>\n",
       "      <td>3.0</td>\n",
       "      <td>Vega Sicilia</td>\n",
       "      <td>Unico</td>\n",
       "      <td>Ribera del Duero</td>\n",
       "      <td>Ribera Del Duero Red</td>\n",
       "      <td>4.698744</td>\n",
       "    </tr>\n",
       "    <tr>\n",
       "      <th>4</th>\n",
       "      <td>1996.0</td>\n",
       "      <td>778.06</td>\n",
       "      <td>5.0</td>\n",
       "      <td>3.0</td>\n",
       "      <td>Vega Sicilia</td>\n",
       "      <td>Unico</td>\n",
       "      <td>Ribera del Duero</td>\n",
       "      <td>Ribera Del Duero Red</td>\n",
       "      <td>4.675129</td>\n",
       "    </tr>\n",
       "  </tbody>\n",
       "</table>\n",
       "</div>"
      ],
      "text/plain": [
       "     year   price  body  acidity         winery           wine  \\\n",
       "0  2013.0  995.00   5.0      3.0  Teso La Monja          Tinto   \n",
       "1  2018.0  313.50   4.0      2.0         Artadi  Vina El Pison   \n",
       "2  2009.0  324.95   5.0      3.0   Vega Sicilia          Unico   \n",
       "3  1999.0  692.96   5.0      3.0   Vega Sicilia          Unico   \n",
       "4  1996.0  778.06   5.0      3.0   Vega Sicilia          Unico   \n",
       "\n",
       "             region                  type   quality  \n",
       "0              Toro              Toro Red  4.338633  \n",
       "1    Vino de Espana           Tempranillo  4.302545  \n",
       "2  Ribera del Duero  Ribera Del Duero Red  4.702827  \n",
       "3  Ribera del Duero  Ribera Del Duero Red  4.698744  \n",
       "4  Ribera del Duero  Ribera Del Duero Red  4.675129  "
      ]
     },
     "execution_count": 128,
     "metadata": {},
     "output_type": "execute_result"
    }
   ],
   "source": [
    "df4 = df.drop(['qualcat'], axis=1)\n",
    "df4.head()"
   ]
  },
  {
   "cell_type": "code",
   "execution_count": 129,
   "id": "88b895b6",
   "metadata": {},
   "outputs": [],
   "source": [
    "df4=pd.get_dummies(df4, columns=['winery','wine','region','type'], drop_first=True)"
   ]
  },
  {
   "cell_type": "code",
   "execution_count": 130,
   "id": "310a0b4f",
   "metadata": {},
   "outputs": [
    {
     "data": {
      "text/html": [
       "<div>\n",
       "<style scoped>\n",
       "    .dataframe tbody tr th:only-of-type {\n",
       "        vertical-align: middle;\n",
       "    }\n",
       "\n",
       "    .dataframe tbody tr th {\n",
       "        vertical-align: top;\n",
       "    }\n",
       "\n",
       "    .dataframe thead th {\n",
       "        text-align: right;\n",
       "    }\n",
       "</style>\n",
       "<table border=\"1\" class=\"dataframe\">\n",
       "  <thead>\n",
       "    <tr style=\"text-align: right;\">\n",
       "      <th></th>\n",
       "      <th>year</th>\n",
       "      <th>price</th>\n",
       "      <th>body</th>\n",
       "      <th>acidity</th>\n",
       "      <th>quality</th>\n",
       "      <th>winery_AGE</th>\n",
       "      <th>winery_Aalto</th>\n",
       "      <th>winery_Abadal</th>\n",
       "      <th>winery_Abadia Retuerta</th>\n",
       "      <th>winery_Abel Mendoza Monge</th>\n",
       "      <th>...</th>\n",
       "      <th>type_Ribera Del Duero Red</th>\n",
       "      <th>type_Rioja Red</th>\n",
       "      <th>type_Rioja White</th>\n",
       "      <th>type_Sauvignon Blanc</th>\n",
       "      <th>type_Sherry</th>\n",
       "      <th>type_Sparkling</th>\n",
       "      <th>type_Syrah</th>\n",
       "      <th>type_Tempranillo</th>\n",
       "      <th>type_Toro Red</th>\n",
       "      <th>type_Verdejo</th>\n",
       "    </tr>\n",
       "  </thead>\n",
       "  <tbody>\n",
       "    <tr>\n",
       "      <th>0</th>\n",
       "      <td>2013.0</td>\n",
       "      <td>995.00</td>\n",
       "      <td>5.0</td>\n",
       "      <td>3.0</td>\n",
       "      <td>4.338633</td>\n",
       "      <td>0</td>\n",
       "      <td>0</td>\n",
       "      <td>0</td>\n",
       "      <td>0</td>\n",
       "      <td>0</td>\n",
       "      <td>...</td>\n",
       "      <td>0</td>\n",
       "      <td>0</td>\n",
       "      <td>0</td>\n",
       "      <td>0</td>\n",
       "      <td>0</td>\n",
       "      <td>0</td>\n",
       "      <td>0</td>\n",
       "      <td>0</td>\n",
       "      <td>1</td>\n",
       "      <td>0</td>\n",
       "    </tr>\n",
       "    <tr>\n",
       "      <th>1</th>\n",
       "      <td>2018.0</td>\n",
       "      <td>313.50</td>\n",
       "      <td>4.0</td>\n",
       "      <td>2.0</td>\n",
       "      <td>4.302545</td>\n",
       "      <td>0</td>\n",
       "      <td>0</td>\n",
       "      <td>0</td>\n",
       "      <td>0</td>\n",
       "      <td>0</td>\n",
       "      <td>...</td>\n",
       "      <td>0</td>\n",
       "      <td>0</td>\n",
       "      <td>0</td>\n",
       "      <td>0</td>\n",
       "      <td>0</td>\n",
       "      <td>0</td>\n",
       "      <td>0</td>\n",
       "      <td>1</td>\n",
       "      <td>0</td>\n",
       "      <td>0</td>\n",
       "    </tr>\n",
       "    <tr>\n",
       "      <th>2</th>\n",
       "      <td>2009.0</td>\n",
       "      <td>324.95</td>\n",
       "      <td>5.0</td>\n",
       "      <td>3.0</td>\n",
       "      <td>4.702827</td>\n",
       "      <td>0</td>\n",
       "      <td>0</td>\n",
       "      <td>0</td>\n",
       "      <td>0</td>\n",
       "      <td>0</td>\n",
       "      <td>...</td>\n",
       "      <td>1</td>\n",
       "      <td>0</td>\n",
       "      <td>0</td>\n",
       "      <td>0</td>\n",
       "      <td>0</td>\n",
       "      <td>0</td>\n",
       "      <td>0</td>\n",
       "      <td>0</td>\n",
       "      <td>0</td>\n",
       "      <td>0</td>\n",
       "    </tr>\n",
       "    <tr>\n",
       "      <th>3</th>\n",
       "      <td>1999.0</td>\n",
       "      <td>692.96</td>\n",
       "      <td>5.0</td>\n",
       "      <td>3.0</td>\n",
       "      <td>4.698744</td>\n",
       "      <td>0</td>\n",
       "      <td>0</td>\n",
       "      <td>0</td>\n",
       "      <td>0</td>\n",
       "      <td>0</td>\n",
       "      <td>...</td>\n",
       "      <td>1</td>\n",
       "      <td>0</td>\n",
       "      <td>0</td>\n",
       "      <td>0</td>\n",
       "      <td>0</td>\n",
       "      <td>0</td>\n",
       "      <td>0</td>\n",
       "      <td>0</td>\n",
       "      <td>0</td>\n",
       "      <td>0</td>\n",
       "    </tr>\n",
       "    <tr>\n",
       "      <th>4</th>\n",
       "      <td>1996.0</td>\n",
       "      <td>778.06</td>\n",
       "      <td>5.0</td>\n",
       "      <td>3.0</td>\n",
       "      <td>4.675129</td>\n",
       "      <td>0</td>\n",
       "      <td>0</td>\n",
       "      <td>0</td>\n",
       "      <td>0</td>\n",
       "      <td>0</td>\n",
       "      <td>...</td>\n",
       "      <td>1</td>\n",
       "      <td>0</td>\n",
       "      <td>0</td>\n",
       "      <td>0</td>\n",
       "      <td>0</td>\n",
       "      <td>0</td>\n",
       "      <td>0</td>\n",
       "      <td>0</td>\n",
       "      <td>0</td>\n",
       "      <td>0</td>\n",
       "    </tr>\n",
       "    <tr>\n",
       "      <th>5</th>\n",
       "      <td>1998.0</td>\n",
       "      <td>490.00</td>\n",
       "      <td>5.0</td>\n",
       "      <td>3.0</td>\n",
       "      <td>4.667315</td>\n",
       "      <td>0</td>\n",
       "      <td>0</td>\n",
       "      <td>0</td>\n",
       "      <td>0</td>\n",
       "      <td>0</td>\n",
       "      <td>...</td>\n",
       "      <td>1</td>\n",
       "      <td>0</td>\n",
       "      <td>0</td>\n",
       "      <td>0</td>\n",
       "      <td>0</td>\n",
       "      <td>0</td>\n",
       "      <td>0</td>\n",
       "      <td>0</td>\n",
       "      <td>0</td>\n",
       "      <td>0</td>\n",
       "    </tr>\n",
       "    <tr>\n",
       "      <th>6</th>\n",
       "      <td>2010.0</td>\n",
       "      <td>349.00</td>\n",
       "      <td>5.0</td>\n",
       "      <td>3.0</td>\n",
       "      <td>4.666647</td>\n",
       "      <td>0</td>\n",
       "      <td>0</td>\n",
       "      <td>0</td>\n",
       "      <td>0</td>\n",
       "      <td>0</td>\n",
       "      <td>...</td>\n",
       "      <td>1</td>\n",
       "      <td>0</td>\n",
       "      <td>0</td>\n",
       "      <td>0</td>\n",
       "      <td>0</td>\n",
       "      <td>0</td>\n",
       "      <td>0</td>\n",
       "      <td>0</td>\n",
       "      <td>0</td>\n",
       "      <td>0</td>\n",
       "    </tr>\n",
       "    <tr>\n",
       "      <th>7</th>\n",
       "      <td>1995.0</td>\n",
       "      <td>810.89</td>\n",
       "      <td>5.0</td>\n",
       "      <td>3.0</td>\n",
       "      <td>4.638760</td>\n",
       "      <td>0</td>\n",
       "      <td>0</td>\n",
       "      <td>0</td>\n",
       "      <td>0</td>\n",
       "      <td>0</td>\n",
       "      <td>...</td>\n",
       "      <td>1</td>\n",
       "      <td>0</td>\n",
       "      <td>0</td>\n",
       "      <td>0</td>\n",
       "      <td>0</td>\n",
       "      <td>0</td>\n",
       "      <td>0</td>\n",
       "      <td>0</td>\n",
       "      <td>0</td>\n",
       "      <td>0</td>\n",
       "    </tr>\n",
       "    <tr>\n",
       "      <th>8</th>\n",
       "      <td>2015.0</td>\n",
       "      <td>345.00</td>\n",
       "      <td>5.0</td>\n",
       "      <td>3.0</td>\n",
       "      <td>4.594544</td>\n",
       "      <td>0</td>\n",
       "      <td>0</td>\n",
       "      <td>0</td>\n",
       "      <td>0</td>\n",
       "      <td>0</td>\n",
       "      <td>...</td>\n",
       "      <td>1</td>\n",
       "      <td>0</td>\n",
       "      <td>0</td>\n",
       "      <td>0</td>\n",
       "      <td>0</td>\n",
       "      <td>0</td>\n",
       "      <td>0</td>\n",
       "      <td>0</td>\n",
       "      <td>0</td>\n",
       "      <td>0</td>\n",
       "    </tr>\n",
       "    <tr>\n",
       "      <th>9</th>\n",
       "      <td>2011.0</td>\n",
       "      <td>315.00</td>\n",
       "      <td>5.0</td>\n",
       "      <td>3.0</td>\n",
       "      <td>4.591922</td>\n",
       "      <td>0</td>\n",
       "      <td>0</td>\n",
       "      <td>0</td>\n",
       "      <td>0</td>\n",
       "      <td>0</td>\n",
       "      <td>...</td>\n",
       "      <td>1</td>\n",
       "      <td>0</td>\n",
       "      <td>0</td>\n",
       "      <td>0</td>\n",
       "      <td>0</td>\n",
       "      <td>0</td>\n",
       "      <td>0</td>\n",
       "      <td>0</td>\n",
       "      <td>0</td>\n",
       "      <td>0</td>\n",
       "    </tr>\n",
       "  </tbody>\n",
       "</table>\n",
       "<p>10 rows × 1425 columns</p>\n",
       "</div>"
      ],
      "text/plain": [
       "     year   price  body  acidity   quality  winery_AGE  winery_Aalto  \\\n",
       "0  2013.0  995.00   5.0      3.0  4.338633           0             0   \n",
       "1  2018.0  313.50   4.0      2.0  4.302545           0             0   \n",
       "2  2009.0  324.95   5.0      3.0  4.702827           0             0   \n",
       "3  1999.0  692.96   5.0      3.0  4.698744           0             0   \n",
       "4  1996.0  778.06   5.0      3.0  4.675129           0             0   \n",
       "5  1998.0  490.00   5.0      3.0  4.667315           0             0   \n",
       "6  2010.0  349.00   5.0      3.0  4.666647           0             0   \n",
       "7  1995.0  810.89   5.0      3.0  4.638760           0             0   \n",
       "8  2015.0  345.00   5.0      3.0  4.594544           0             0   \n",
       "9  2011.0  315.00   5.0      3.0  4.591922           0             0   \n",
       "\n",
       "   winery_Abadal  winery_Abadia Retuerta  winery_Abel Mendoza Monge  ...  \\\n",
       "0              0                       0                          0  ...   \n",
       "1              0                       0                          0  ...   \n",
       "2              0                       0                          0  ...   \n",
       "3              0                       0                          0  ...   \n",
       "4              0                       0                          0  ...   \n",
       "5              0                       0                          0  ...   \n",
       "6              0                       0                          0  ...   \n",
       "7              0                       0                          0  ...   \n",
       "8              0                       0                          0  ...   \n",
       "9              0                       0                          0  ...   \n",
       "\n",
       "   type_Ribera Del Duero Red  type_Rioja Red  type_Rioja White  \\\n",
       "0                          0               0                 0   \n",
       "1                          0               0                 0   \n",
       "2                          1               0                 0   \n",
       "3                          1               0                 0   \n",
       "4                          1               0                 0   \n",
       "5                          1               0                 0   \n",
       "6                          1               0                 0   \n",
       "7                          1               0                 0   \n",
       "8                          1               0                 0   \n",
       "9                          1               0                 0   \n",
       "\n",
       "   type_Sauvignon Blanc  type_Sherry  type_Sparkling  type_Syrah  \\\n",
       "0                     0            0               0           0   \n",
       "1                     0            0               0           0   \n",
       "2                     0            0               0           0   \n",
       "3                     0            0               0           0   \n",
       "4                     0            0               0           0   \n",
       "5                     0            0               0           0   \n",
       "6                     0            0               0           0   \n",
       "7                     0            0               0           0   \n",
       "8                     0            0               0           0   \n",
       "9                     0            0               0           0   \n",
       "\n",
       "   type_Tempranillo  type_Toro Red  type_Verdejo  \n",
       "0                 0              1             0  \n",
       "1                 1              0             0  \n",
       "2                 0              0             0  \n",
       "3                 0              0             0  \n",
       "4                 0              0             0  \n",
       "5                 0              0             0  \n",
       "6                 0              0             0  \n",
       "7                 0              0             0  \n",
       "8                 0              0             0  \n",
       "9                 0              0             0  \n",
       "\n",
       "[10 rows x 1425 columns]"
      ]
     },
     "execution_count": 130,
     "metadata": {},
     "output_type": "execute_result"
    }
   ],
   "source": [
    "df4.head(10)"
   ]
  },
  {
   "cell_type": "code",
   "execution_count": 131,
   "id": "f33dff33",
   "metadata": {},
   "outputs": [],
   "source": [
    "scaled_features = StandardScaler().fit_transform(df4.values)\n",
    "df4 = pd.DataFrame(scaled_features, index=df4.index, columns=df4.columns)"
   ]
  },
  {
   "cell_type": "code",
   "execution_count": 132,
   "id": "f68cbda1",
   "metadata": {},
   "outputs": [
    {
     "data": {
      "text/html": [
       "<div>\n",
       "<style scoped>\n",
       "    .dataframe tbody tr th:only-of-type {\n",
       "        vertical-align: middle;\n",
       "    }\n",
       "\n",
       "    .dataframe tbody tr th {\n",
       "        vertical-align: top;\n",
       "    }\n",
       "\n",
       "    .dataframe thead th {\n",
       "        text-align: right;\n",
       "    }\n",
       "</style>\n",
       "<table border=\"1\" class=\"dataframe\">\n",
       "  <thead>\n",
       "    <tr style=\"text-align: right;\">\n",
       "      <th></th>\n",
       "      <th>year</th>\n",
       "      <th>price</th>\n",
       "      <th>body</th>\n",
       "      <th>acidity</th>\n",
       "      <th>quality</th>\n",
       "      <th>winery_AGE</th>\n",
       "      <th>winery_Aalto</th>\n",
       "      <th>winery_Abadal</th>\n",
       "      <th>winery_Abadia Retuerta</th>\n",
       "      <th>winery_Abel Mendoza Monge</th>\n",
       "      <th>...</th>\n",
       "      <th>type_Ribera Del Duero Red</th>\n",
       "      <th>type_Rioja Red</th>\n",
       "      <th>type_Rioja White</th>\n",
       "      <th>type_Sauvignon Blanc</th>\n",
       "      <th>type_Sherry</th>\n",
       "      <th>type_Sparkling</th>\n",
       "      <th>type_Syrah</th>\n",
       "      <th>type_Tempranillo</th>\n",
       "      <th>type_Toro Red</th>\n",
       "      <th>type_Verdejo</th>\n",
       "    </tr>\n",
       "  </thead>\n",
       "  <tbody>\n",
       "    <tr>\n",
       "      <th>0</th>\n",
       "      <td>-0.070613</td>\n",
       "      <td>6.218324</td>\n",
       "      <td>1.583713</td>\n",
       "      <td>0.196933</td>\n",
       "      <td>1.859223</td>\n",
       "      <td>-0.011548</td>\n",
       "      <td>-0.040032</td>\n",
       "      <td>-0.020004</td>\n",
       "      <td>-0.060108</td>\n",
       "      <td>-0.0231</td>\n",
       "      <td>...</td>\n",
       "      <td>-0.592954</td>\n",
       "      <td>-0.677183</td>\n",
       "      <td>-0.111441</td>\n",
       "      <td>-0.0231</td>\n",
       "      <td>-0.194727</td>\n",
       "      <td>-0.025828</td>\n",
       "      <td>-0.044766</td>\n",
       "      <td>-0.200913</td>\n",
       "      <td>4.933339</td>\n",
       "      <td>-0.060108</td>\n",
       "    </tr>\n",
       "    <tr>\n",
       "      <th>1</th>\n",
       "      <td>0.664124</td>\n",
       "      <td>1.685466</td>\n",
       "      <td>-0.257528</td>\n",
       "      <td>-4.172880</td>\n",
       "      <td>1.129817</td>\n",
       "      <td>-0.011548</td>\n",
       "      <td>-0.040032</td>\n",
       "      <td>-0.020004</td>\n",
       "      <td>-0.060108</td>\n",
       "      <td>-0.0231</td>\n",
       "      <td>...</td>\n",
       "      <td>-0.592954</td>\n",
       "      <td>-0.677183</td>\n",
       "      <td>-0.111441</td>\n",
       "      <td>-0.0231</td>\n",
       "      <td>-0.194727</td>\n",
       "      <td>-0.025828</td>\n",
       "      <td>-0.044766</td>\n",
       "      <td>4.977268</td>\n",
       "      <td>-0.202702</td>\n",
       "      <td>-0.060108</td>\n",
       "    </tr>\n",
       "    <tr>\n",
       "      <th>2</th>\n",
       "      <td>-0.658403</td>\n",
       "      <td>1.761623</td>\n",
       "      <td>1.583713</td>\n",
       "      <td>0.196933</td>\n",
       "      <td>9.220300</td>\n",
       "      <td>-0.011548</td>\n",
       "      <td>-0.040032</td>\n",
       "      <td>-0.020004</td>\n",
       "      <td>-0.060108</td>\n",
       "      <td>-0.0231</td>\n",
       "      <td>...</td>\n",
       "      <td>1.686470</td>\n",
       "      <td>-0.677183</td>\n",
       "      <td>-0.111441</td>\n",
       "      <td>-0.0231</td>\n",
       "      <td>-0.194727</td>\n",
       "      <td>-0.025828</td>\n",
       "      <td>-0.044766</td>\n",
       "      <td>-0.200913</td>\n",
       "      <td>-0.202702</td>\n",
       "      <td>-0.060108</td>\n",
       "    </tr>\n",
       "    <tr>\n",
       "      <th>3</th>\n",
       "      <td>-2.127877</td>\n",
       "      <td>4.209367</td>\n",
       "      <td>1.583713</td>\n",
       "      <td>0.196933</td>\n",
       "      <td>9.137761</td>\n",
       "      <td>-0.011548</td>\n",
       "      <td>-0.040032</td>\n",
       "      <td>-0.020004</td>\n",
       "      <td>-0.060108</td>\n",
       "      <td>-0.0231</td>\n",
       "      <td>...</td>\n",
       "      <td>1.686470</td>\n",
       "      <td>-0.677183</td>\n",
       "      <td>-0.111441</td>\n",
       "      <td>-0.0231</td>\n",
       "      <td>-0.194727</td>\n",
       "      <td>-0.025828</td>\n",
       "      <td>-0.044766</td>\n",
       "      <td>-0.200913</td>\n",
       "      <td>-0.202702</td>\n",
       "      <td>-0.060108</td>\n",
       "    </tr>\n",
       "    <tr>\n",
       "      <th>4</th>\n",
       "      <td>-2.568719</td>\n",
       "      <td>4.775392</td>\n",
       "      <td>1.583713</td>\n",
       "      <td>0.196933</td>\n",
       "      <td>8.660464</td>\n",
       "      <td>-0.011548</td>\n",
       "      <td>-0.040032</td>\n",
       "      <td>-0.020004</td>\n",
       "      <td>-0.060108</td>\n",
       "      <td>-0.0231</td>\n",
       "      <td>...</td>\n",
       "      <td>1.686470</td>\n",
       "      <td>-0.677183</td>\n",
       "      <td>-0.111441</td>\n",
       "      <td>-0.0231</td>\n",
       "      <td>-0.194727</td>\n",
       "      <td>-0.025828</td>\n",
       "      <td>-0.044766</td>\n",
       "      <td>-0.200913</td>\n",
       "      <td>-0.202702</td>\n",
       "      <td>-0.060108</td>\n",
       "    </tr>\n",
       "  </tbody>\n",
       "</table>\n",
       "<p>5 rows × 1425 columns</p>\n",
       "</div>"
      ],
      "text/plain": [
       "       year     price      body   acidity   quality  winery_AGE  winery_Aalto  \\\n",
       "0 -0.070613  6.218324  1.583713  0.196933  1.859223   -0.011548     -0.040032   \n",
       "1  0.664124  1.685466 -0.257528 -4.172880  1.129817   -0.011548     -0.040032   \n",
       "2 -0.658403  1.761623  1.583713  0.196933  9.220300   -0.011548     -0.040032   \n",
       "3 -2.127877  4.209367  1.583713  0.196933  9.137761   -0.011548     -0.040032   \n",
       "4 -2.568719  4.775392  1.583713  0.196933  8.660464   -0.011548     -0.040032   \n",
       "\n",
       "   winery_Abadal  winery_Abadia Retuerta  winery_Abel Mendoza Monge  ...  \\\n",
       "0      -0.020004               -0.060108                    -0.0231  ...   \n",
       "1      -0.020004               -0.060108                    -0.0231  ...   \n",
       "2      -0.020004               -0.060108                    -0.0231  ...   \n",
       "3      -0.020004               -0.060108                    -0.0231  ...   \n",
       "4      -0.020004               -0.060108                    -0.0231  ...   \n",
       "\n",
       "   type_Ribera Del Duero Red  type_Rioja Red  type_Rioja White  \\\n",
       "0                  -0.592954       -0.677183         -0.111441   \n",
       "1                  -0.592954       -0.677183         -0.111441   \n",
       "2                   1.686470       -0.677183         -0.111441   \n",
       "3                   1.686470       -0.677183         -0.111441   \n",
       "4                   1.686470       -0.677183         -0.111441   \n",
       "\n",
       "   type_Sauvignon Blanc  type_Sherry  type_Sparkling  type_Syrah  \\\n",
       "0               -0.0231    -0.194727       -0.025828   -0.044766   \n",
       "1               -0.0231    -0.194727       -0.025828   -0.044766   \n",
       "2               -0.0231    -0.194727       -0.025828   -0.044766   \n",
       "3               -0.0231    -0.194727       -0.025828   -0.044766   \n",
       "4               -0.0231    -0.194727       -0.025828   -0.044766   \n",
       "\n",
       "   type_Tempranillo  type_Toro Red  type_Verdejo  \n",
       "0         -0.200913       4.933339     -0.060108  \n",
       "1          4.977268      -0.202702     -0.060108  \n",
       "2         -0.200913      -0.202702     -0.060108  \n",
       "3         -0.200913      -0.202702     -0.060108  \n",
       "4         -0.200913      -0.202702     -0.060108  \n",
       "\n",
       "[5 rows x 1425 columns]"
      ]
     },
     "execution_count": 132,
     "metadata": {},
     "output_type": "execute_result"
    }
   ],
   "source": [
    "df4.head()"
   ]
  },
  {
   "cell_type": "code",
   "execution_count": 133,
   "id": "7f739206",
   "metadata": {},
   "outputs": [],
   "source": [
    "X = df4.drop(columns=['quality'])\n",
    "Y = df4['quality']\n",
    "\n",
    "X_train, X_test, Y_train, Y_test = train_test_split(X, Y, test_size=.2, random_state=0)"
   ]
  },
  {
   "cell_type": "code",
   "execution_count": 134,
   "id": "ac673401",
   "metadata": {},
   "outputs": [],
   "source": [
    "models = {}\n",
    "def train_validate_predict(regressor, X_train, Y_train, X_test, Y_test, index):\n",
    "    model = regressor\n",
    "    model.fit(X_train, Y_train)\n",
    "    \n",
    "    Y_pred = model.predict(X_test)\n",
    "\n",
    "    r2 = r2_score(Y_test, Y_pred)\n",
    "    models[index] = r2"
   ]
  },
  {
   "cell_type": "code",
   "execution_count": 135,
   "id": "ec0a0f30",
   "metadata": {},
   "outputs": [],
   "source": [
    "model_list = [LinearRegression, Lasso, Ridge, BayesianRidge, DecisionTreeRegressor, RandomForestRegressor]\n",
    "model_names = ['Linear Regression', 'Lasso', 'Ridge', 'Bayesian Ridge', 'Decision Tree Regressor', 'Random Forest Regressor']\n",
    "\n",
    "index = 0\n",
    "for regressor in model_list:\n",
    "    train_validate_predict(regressor(), X_train, Y_train, X_test, Y_test, model_names[index])\n",
    "    index+=1"
   ]
  },
  {
   "cell_type": "code",
   "execution_count": 136,
   "id": "ef62bdf6",
   "metadata": {},
   "outputs": [
    {
     "data": {
      "text/plain": [
       "{'Linear Regression': -1.4773952570963778e+28,\n",
       " 'Lasso': -0.00048115908606205515,\n",
       " 'Ridge': 0.7112124853088507,\n",
       " 'Bayesian Ridge': 0.7264429224655733,\n",
       " 'Decision Tree Regressor': 0.7216288456684126,\n",
       " 'Random Forest Regressor': 0.8134749412998675}"
      ]
     },
     "execution_count": 136,
     "metadata": {},
     "output_type": "execute_result"
    }
   ],
   "source": [
    "models"
   ]
  },
  {
   "cell_type": "code",
   "execution_count": 137,
   "id": "581fc7d6",
   "metadata": {},
   "outputs": [
    {
     "name": "stdout",
     "output_type": "stream",
     "text": [
      "0.8190752135642401\n"
     ]
    }
   ],
   "source": [
    "fmodel = RandomForestRegressor()\n",
    "fmodel.fit(X_train,Y_train)\n",
    "Y_pred = fmodel.predict(X_test)\n",
    "print(r2_score(Y_test, Y_pred))"
   ]
  },
  {
   "cell_type": "code",
   "execution_count": 321,
   "id": "764a68e7",
   "metadata": {},
   "outputs": [
    {
     "data": {
      "text/plain": [
       "array([0.12178065, 0.41956823, 0.00639443, ..., 0.00045703, 0.00462186,\n",
       "       0.00086751])"
      ]
     },
     "execution_count": 321,
     "metadata": {},
     "output_type": "execute_result"
    }
   ],
   "source": [
    "fmodel.feature_importances_"
   ]
  },
  {
   "cell_type": "code",
   "execution_count": 322,
   "id": "9e06f429",
   "metadata": {},
   "outputs": [],
   "source": [
    "featmodel = pd.DataFrame(columns=df4.columns)\n",
    "featmodel.drop('quality', axis=1,inplace=True)\n",
    "featmodel=featmodel.append(pd.DataFrame(fmodel.feature_importances_.reshape(1,-1), columns=list(featmodel)), ignore_index=True)"
   ]
  },
  {
   "cell_type": "code",
   "execution_count": 323,
   "id": "ce1cf080",
   "metadata": {},
   "outputs": [
    {
     "data": {
      "text/html": [
       "<div>\n",
       "<style scoped>\n",
       "    .dataframe tbody tr th:only-of-type {\n",
       "        vertical-align: middle;\n",
       "    }\n",
       "\n",
       "    .dataframe tbody tr th {\n",
       "        vertical-align: top;\n",
       "    }\n",
       "\n",
       "    .dataframe thead th {\n",
       "        text-align: right;\n",
       "    }\n",
       "</style>\n",
       "<table border=\"1\" class=\"dataframe\">\n",
       "  <thead>\n",
       "    <tr style=\"text-align: right;\">\n",
       "      <th></th>\n",
       "      <th>year</th>\n",
       "      <th>price</th>\n",
       "      <th>body</th>\n",
       "      <th>acidity</th>\n",
       "      <th>winery_AGE</th>\n",
       "      <th>winery_Aalto</th>\n",
       "      <th>winery_Abadal</th>\n",
       "      <th>winery_Abadia Retuerta</th>\n",
       "      <th>winery_Abel Mendoza Monge</th>\n",
       "      <th>winery_Acustic Celler</th>\n",
       "      <th>...</th>\n",
       "      <th>type_Ribera Del Duero Red</th>\n",
       "      <th>type_Rioja Red</th>\n",
       "      <th>type_Rioja White</th>\n",
       "      <th>type_Sauvignon Blanc</th>\n",
       "      <th>type_Sherry</th>\n",
       "      <th>type_Sparkling</th>\n",
       "      <th>type_Syrah</th>\n",
       "      <th>type_Tempranillo</th>\n",
       "      <th>type_Toro Red</th>\n",
       "      <th>type_Verdejo</th>\n",
       "    </tr>\n",
       "  </thead>\n",
       "  <tbody>\n",
       "    <tr>\n",
       "      <th>0</th>\n",
       "      <td>0.121781</td>\n",
       "      <td>0.419568</td>\n",
       "      <td>0.006394</td>\n",
       "      <td>0.001097</td>\n",
       "      <td>0.000001</td>\n",
       "      <td>0.006893</td>\n",
       "      <td>0.000036</td>\n",
       "      <td>0.001018</td>\n",
       "      <td>0.000007</td>\n",
       "      <td>0.00004</td>\n",
       "      <td>...</td>\n",
       "      <td>0.000996</td>\n",
       "      <td>0.003103</td>\n",
       "      <td>0.000209</td>\n",
       "      <td>0.000088</td>\n",
       "      <td>0.000966</td>\n",
       "      <td>0.000029</td>\n",
       "      <td>0.00035</td>\n",
       "      <td>0.000457</td>\n",
       "      <td>0.004622</td>\n",
       "      <td>0.000868</td>\n",
       "    </tr>\n",
       "  </tbody>\n",
       "</table>\n",
       "<p>1 rows × 1424 columns</p>\n",
       "</div>"
      ],
      "text/plain": [
       "       year     price      body   acidity  winery_AGE  winery_Aalto  \\\n",
       "0  0.121781  0.419568  0.006394  0.001097    0.000001      0.006893   \n",
       "\n",
       "   winery_Abadal  winery_Abadia Retuerta  winery_Abel Mendoza Monge  \\\n",
       "0       0.000036                0.001018                   0.000007   \n",
       "\n",
       "   winery_Acustic Celler  ...  type_Ribera Del Duero Red  type_Rioja Red  \\\n",
       "0                0.00004  ...                   0.000996        0.003103   \n",
       "\n",
       "   type_Rioja White  type_Sauvignon Blanc  type_Sherry  type_Sparkling  \\\n",
       "0          0.000209              0.000088     0.000966        0.000029   \n",
       "\n",
       "   type_Syrah  type_Tempranillo  type_Toro Red  type_Verdejo  \n",
       "0     0.00035          0.000457       0.004622      0.000868  \n",
       "\n",
       "[1 rows x 1424 columns]"
      ]
     },
     "execution_count": 323,
     "metadata": {},
     "output_type": "execute_result"
    }
   ],
   "source": [
    "featmodel.head()"
   ]
  },
  {
   "cell_type": "code",
   "execution_count": 473,
   "id": "be8240dd",
   "metadata": {},
   "outputs": [],
   "source": [
    "details = featmodel.sort_values(by=0, ascending=False, axis=1)"
   ]
  },
  {
   "cell_type": "code",
   "execution_count": 474,
   "id": "0846f2c9",
   "metadata": {
    "scrolled": true
   },
   "outputs": [
    {
     "data": {
      "text/html": [
       "<div>\n",
       "<style scoped>\n",
       "    .dataframe tbody tr th:only-of-type {\n",
       "        vertical-align: middle;\n",
       "    }\n",
       "\n",
       "    .dataframe tbody tr th {\n",
       "        vertical-align: top;\n",
       "    }\n",
       "\n",
       "    .dataframe thead th {\n",
       "        text-align: right;\n",
       "    }\n",
       "</style>\n",
       "<table border=\"1\" class=\"dataframe\">\n",
       "  <thead>\n",
       "    <tr style=\"text-align: right;\">\n",
       "      <th></th>\n",
       "      <th>price</th>\n",
       "      <th>year</th>\n",
       "      <th>winery_Vega Sicilia</th>\n",
       "      <th>winery_Pago de Carraovejas</th>\n",
       "      <th>winery_Alion</th>\n",
       "      <th>wine_Unico</th>\n",
       "      <th>winery_Dominio de Pingus</th>\n",
       "      <th>wine_PS (Pagos Seleccionados) Ribera del Duero</th>\n",
       "      <th>winery_Remirez de Ganuza</th>\n",
       "      <th>winery_Bodegas El Nido</th>\n",
       "      <th>...</th>\n",
       "      <th>wine_La Loma</th>\n",
       "      <th>wine_Angel Ribera del Duero</th>\n",
       "      <th>winery_Arid</th>\n",
       "      <th>wine_Angeles de Amaren Tempranillo - Graciano</th>\n",
       "      <th>wine_Arcos de la Frontera</th>\n",
       "      <th>wine_Rioja 150 Aniversario</th>\n",
       "      <th>winery_Anibal de Otero</th>\n",
       "      <th>wine_Branco Vermu</th>\n",
       "      <th>wine_Cabernet</th>\n",
       "      <th>wine_Don Miguel Comenge Reserva</th>\n",
       "    </tr>\n",
       "  </thead>\n",
       "  <tbody>\n",
       "    <tr>\n",
       "      <th>0</th>\n",
       "      <td>0.419568</td>\n",
       "      <td>0.121781</td>\n",
       "      <td>0.113576</td>\n",
       "      <td>0.015867</td>\n",
       "      <td>0.014486</td>\n",
       "      <td>0.013011</td>\n",
       "      <td>0.011884</td>\n",
       "      <td>0.009256</td>\n",
       "      <td>0.007482</td>\n",
       "      <td>0.007345</td>\n",
       "      <td>...</td>\n",
       "      <td>0.0</td>\n",
       "      <td>0.0</td>\n",
       "      <td>0.0</td>\n",
       "      <td>0.0</td>\n",
       "      <td>0.0</td>\n",
       "      <td>0.0</td>\n",
       "      <td>0.0</td>\n",
       "      <td>0.0</td>\n",
       "      <td>0.0</td>\n",
       "      <td>0.0</td>\n",
       "    </tr>\n",
       "  </tbody>\n",
       "</table>\n",
       "<p>1 rows × 1424 columns</p>\n",
       "</div>"
      ],
      "text/plain": [
       "      price      year  winery_Vega Sicilia  winery_Pago de Carraovejas  \\\n",
       "0  0.419568  0.121781             0.113576                    0.015867   \n",
       "\n",
       "   winery_Alion  wine_Unico  winery_Dominio de Pingus  \\\n",
       "0      0.014486    0.013011                  0.011884   \n",
       "\n",
       "   wine_PS (Pagos Seleccionados) Ribera del Duero  winery_Remirez de Ganuza  \\\n",
       "0                                        0.009256                  0.007482   \n",
       "\n",
       "   winery_Bodegas El Nido  ...  wine_La Loma  wine_Angel Ribera del Duero  \\\n",
       "0                0.007345  ...           0.0                          0.0   \n",
       "\n",
       "   winery_Arid  wine_Angeles de Amaren Tempranillo - Graciano  \\\n",
       "0          0.0                                            0.0   \n",
       "\n",
       "   wine_Arcos de la Frontera  wine_Rioja 150 Aniversario  \\\n",
       "0                        0.0                         0.0   \n",
       "\n",
       "   winery_Anibal de Otero  wine_Branco Vermu  wine_Cabernet  \\\n",
       "0                     0.0                0.0            0.0   \n",
       "\n",
       "   wine_Don Miguel Comenge Reserva  \n",
       "0                              0.0  \n",
       "\n",
       "[1 rows x 1424 columns]"
      ]
     },
     "execution_count": 474,
     "metadata": {},
     "output_type": "execute_result"
    }
   ],
   "source": [
    "details"
   ]
  },
  {
   "cell_type": "code",
   "execution_count": 475,
   "id": "0bb71433",
   "metadata": {
    "scrolled": false
   },
   "outputs": [
    {
     "data": {
      "image/png": "[encoded data removed]",
      "text/plain": [
       "<Figure size 720x432 with 1 Axes>"
      ]
     },
     "metadata": {
      "needs_background": "light"
     },
     "output_type": "display_data"
    }
   ],
   "source": [
    "data=[0.419568,0.121781,0.113576]\n",
    "x = range(3)\n",
    "width = 1/1.5\n",
    "\n",
    "figure = plt.figure(figsize=(10, 6))\n",
    "\n",
    "axes = figure.add_subplot(1, 1, 1)\n",
    "axes.bar(x, data, width, align=\"center\", color=\"darkslategray\")\n",
    "axes.set_xticks([0, 1, 2])\n",
    "axes.set_xticklabels(['price','year','Vega Sicilia Winery'])\n",
    "axes.set_title( \"Feature Importance\")\n",
    "axes.set_xlabel(\"Feature\")\n",
    "axes.set_ylabel( \"Percent\")\n",
    "axes.xaxis.grid(False)\n",
    "\n",
    "plt.show()\n",
    "plt.close()"
   ]
  },
  {
   "cell_type": "code",
   "execution_count": null,
   "id": "d850f511",
   "metadata": {},
   "outputs": [],
   "source": []
  },
  {
   "cell_type": "code",
   "execution_count": 483,
   "id": "f1d262ae",
   "metadata": {},
   "outputs": [
    {
     "data": {
      "text/plain": [
       "'price + year + winery_Vega Sicilia'"
      ]
     },
     "execution_count": 483,
     "metadata": {},
     "output_type": "execute_result"
    }
   ],
   "source": [
    "regfeatures = \" + \".join(details.iloc[:,[0,1,2]])\n",
    "regfeatures"
   ]
  },
  {
   "cell_type": "code",
   "execution_count": 504,
   "id": "49d9758d",
   "metadata": {},
   "outputs": [
    {
     "data": {
      "text/plain": [
       "'El Anejon, Cuesta de Las Liebres, PS (Pagos Seleccionados) Ribera del Duero, Unico, Valbuena 5o'"
      ]
     },
     "execution_count": 504,
     "metadata": {},
     "output_type": "execute_result"
    }
   ],
   "source": [
    "bestwines = \", \".join(winedata1.iloc[:,[0,1,2,3,4]])\n",
    "bestwines"
   ]
  },
  {
   "cell_type": "markdown",
   "id": "241c77c1",
   "metadata": {},
   "source": [
    "## Output Report"
   ]
  },
  {
   "cell_type": "code",
   "execution_count": 510,
   "id": "346be0d0",
   "metadata": {},
   "outputs": [],
   "source": [
    "f= open(\"output.txt\",\"w+\")\n",
    "regtext = 'The most important features according to the regression model are ' + regfeatures + ', which explain over 60% of data. \\n'\n",
    "classtext = 'According to the clutering algorithm, the most important features are ' + classfeatures + ' which explain over 80% of the data. \\n\\n'\n",
    "indepth = \"To focus on quality, a measure of rating and number of reviews, the business should buy wine that's from 2005 and older which will put the wines in the top 2 tiers. \\n\"\n",
    "indepth2 = \"The business should also focus on wine that is around $300 dollars, which is the mean value for the top 3 categories of wine quality. \\n\"\n",
    "indepth3 = \"The winery that produced the best wine was the Vega Sicilia, with over 11% of the variability coming from this single winery. Other honorable mentions are Pago de Carraovejas and Bodegas El Nido. \\n\"\n",
    "indepth4 = \"Finally, the wines of highest quality were \" + bestwines + \".\"\n",
    "f.write(regtext)\n",
    "f.write(classtext)\n",
    "f.write(indepth)\n",
    "f.write(indepth2)\n",
    "f.write(indepth3)\n",
    "f.write(indepth4)\n",
    "f.close()"
   ]
  },
  {
   "cell_type": "code",
   "execution_count": null,
   "id": "66edb567",
   "metadata": {},
   "outputs": [],
   "source": []
  }
 ],
 "metadata": {
  "kernelspec": {
   "display_name": "Python 3 (ipykernel)",
   "language": "python",
   "name": "python3"
  },
  "language_info": {
   "codemirror_mode": {
    "name": "ipython",
    "version": 3
   },
   "file_extension": ".py",
   "mimetype": "text/x-python",
   "name": "python",
   "nbconvert_exporter": "python",
   "pygments_lexer": "ipython3",
   "version": "3.9.7"
  }
 },
 "nbformat": 4,
 "nbformat_minor": 5
}
